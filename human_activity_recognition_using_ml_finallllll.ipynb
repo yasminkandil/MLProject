{
  "metadata": {
    "kernelspec": {
      "language": "python",
      "display_name": "Python 3",
      "name": "python3"
    },
    "language_info": {
      "pygments_lexer": "ipython3",
      "nbconvert_exporter": "python",
      "version": "3.6.4",
      "file_extension": ".py",
      "codemirror_mode": {
        "name": "ipython",
        "version": 3
      },
      "name": "python",
      "mimetype": "text/x-python"
    },
    "colab": {
      "name": "human_activity_recognition_using_ml_finallllll.ipynb",
      "provenance": [],
      "collapsed_sections": [
        "0UkgrbNAZM35"
      ]
    }
  },
  "nbformat_minor": 0,
  "nbformat": 4,
  "cells": [
    {
      "cell_type": "markdown",
      "source": [
        "# Import library"
      ],
      "metadata": {
        "id": "wg_1bp1KZM3e"
      }
    },
    {
      "cell_type": "code",
      "source": [
        "import numpy as np \n",
        "import pandas as pd\n",
        "from matplotlib import pyplot as plt\n",
        "import seaborn as sns\n",
        "from google.colab import drive\n",
        "drive.mount('/content/gdrive')\n",
        "from sklearn import tree\n",
        "from sklearn.tree import DecisionTreeClassifier\n",
        "\n",
        "from sklearn.metrics import accuracy_score\n",
        "from sklearn.metrics import confusion_matrix\n",
        "from sklearn.metrics import classification_report\n",
        "from sklearn.metrics import roc_curve, auc\n",
        "from sklearn.metrics import roc_auc_score\n",
        "from sklearn.model_selection import cross_val_predict\n",
        "from sklearn.preprocessing import MinMaxScaler, StandardScaler, Normalizer, scale \n",
        "from sklearn.model_selection import cross_val_score, KFold\n",
        "from sklearn.neighbors import KNeighborsClassifier\n",
        "from sklearn.metrics import classification_report,accuracy_score\n",
        "from sklearn import metrics\n",
        "from sklearn.preprocessing import StandardScaler\n",
        "from sklearn.naive_bayes import GaussianNB\n",
        "from sklearn.metrics import confusion_matrix, accuracy_score\n",
        "\n",
        "from sklearn.preprocessing import OneHotEncoder,StandardScaler"
      ],
      "metadata": {
        "execution": {
          "iopub.status.busy": "2022-05-19T07:37:11.803238Z",
          "iopub.execute_input": "2022-05-19T07:37:11.804136Z",
          "iopub.status.idle": "2022-05-19T07:37:12.354941Z",
          "shell.execute_reply.started": "2022-05-19T07:37:11.804018Z",
          "shell.execute_reply": "2022-05-19T07:37:12.354173Z"
        },
        "trusted": true,
        "colab": {
          "base_uri": "https://localhost:8080/"
        },
        "id": "1cRPdSOTZM3k",
        "outputId": "dd88f17a-2b0e-48a1-9988-07e7ba815f9b"
      },
      "execution_count": 67,
      "outputs": [
        {
          "output_type": "stream",
          "name": "stdout",
          "text": [
            "Drive already mounted at /content/gdrive; to attempt to forcibly remount, call drive.mount(\"/content/gdrive\", force_remount=True).\n"
          ]
        }
      ]
    },
    {
      "cell_type": "markdown",
      "source": [
        "# Load The train dataset"
      ],
      "metadata": {
        "id": "M4gRIhRUZM3n"
      }
    },
    {
      "cell_type": "code",
      "source": [
        "df_train=pd.read_csv('/content/gdrive/MyDrive/train.csv')"
      ],
      "metadata": {
        "execution": {
          "iopub.status.busy": "2022-05-19T07:37:12.37044Z",
          "iopub.execute_input": "2022-05-19T07:37:12.370782Z",
          "iopub.status.idle": "2022-05-19T07:37:13.336667Z",
          "shell.execute_reply.started": "2022-05-19T07:37:12.370736Z",
          "shell.execute_reply": "2022-05-19T07:37:13.335672Z"
        },
        "trusted": true,
        "id": "Xwtgtl0nZM3n"
      },
      "execution_count": 68,
      "outputs": []
    },
    {
      "cell_type": "code",
      "source": [
        "df_train.head() #displays first 5 rows"
      ],
      "metadata": {
        "execution": {
          "iopub.status.busy": "2022-05-19T07:37:13.338965Z",
          "iopub.execute_input": "2022-05-19T07:37:13.339231Z",
          "iopub.status.idle": "2022-05-19T07:37:13.37502Z",
          "shell.execute_reply.started": "2022-05-19T07:37:13.339201Z",
          "shell.execute_reply": "2022-05-19T07:37:13.373847Z"
        },
        "trusted": true,
        "colab": {
          "base_uri": "https://localhost:8080/",
          "height": 317
        },
        "id": "C3iHMjjJZM3o",
        "outputId": "5af34d8e-82ff-4c44-c1ac-016c5d27ae47"
      },
      "execution_count": 69,
      "outputs": [
        {
          "output_type": "execute_result",
          "data": {
            "text/plain": [
              "   tBodyAcc-mean()-X  tBodyAcc-mean()-Y  tBodyAcc-mean()-Z  tBodyAcc-std()-X  \\\n",
              "0           0.288585          -0.020294          -0.132905         -0.995279   \n",
              "1           0.278419          -0.016411          -0.123520         -0.998245   \n",
              "2           0.279653          -0.019467          -0.113462         -0.995380   \n",
              "3           0.279174          -0.026201          -0.123283         -0.996091   \n",
              "4           0.276629          -0.016570          -0.115362         -0.998139   \n",
              "\n",
              "   tBodyAcc-std()-Y  tBodyAcc-std()-Z  tBodyAcc-mad()-X  tBodyAcc-mad()-Y  \\\n",
              "0         -0.983111         -0.913526         -0.995112         -0.983185   \n",
              "1         -0.975300         -0.960322         -0.998807         -0.974914   \n",
              "2         -0.967187         -0.978944         -0.996520         -0.963668   \n",
              "3         -0.983403         -0.990675         -0.997099         -0.982750   \n",
              "4         -0.980817         -0.990482         -0.998321         -0.979672   \n",
              "\n",
              "   tBodyAcc-mad()-Z  tBodyAcc-max()-X  ...  fBodyBodyGyroJerkMag-kurtosis()  \\\n",
              "0         -0.923527         -0.934724  ...                        -0.710304   \n",
              "1         -0.957686         -0.943068  ...                        -0.861499   \n",
              "2         -0.977469         -0.938692  ...                        -0.760104   \n",
              "3         -0.989302         -0.938692  ...                        -0.482845   \n",
              "4         -0.990441         -0.942469  ...                        -0.699205   \n",
              "\n",
              "   angle(tBodyAccMean,gravity)  angle(tBodyAccJerkMean),gravityMean)  \\\n",
              "0                    -0.112754                              0.030400   \n",
              "1                     0.053477                             -0.007435   \n",
              "2                    -0.118559                              0.177899   \n",
              "3                    -0.036788                             -0.012892   \n",
              "4                     0.123320                              0.122542   \n",
              "\n",
              "   angle(tBodyGyroMean,gravityMean)  angle(tBodyGyroJerkMean,gravityMean)  \\\n",
              "0                         -0.464761                             -0.018446   \n",
              "1                         -0.732626                              0.703511   \n",
              "2                          0.100699                              0.808529   \n",
              "3                          0.640011                             -0.485366   \n",
              "4                          0.693578                             -0.615971   \n",
              "\n",
              "   angle(X,gravityMean)  angle(Y,gravityMean)  angle(Z,gravityMean)  subject  \\\n",
              "0             -0.841247              0.179941             -0.058627        1   \n",
              "1             -0.844788              0.180289             -0.054317        1   \n",
              "2             -0.848933              0.180637             -0.049118        1   \n",
              "3             -0.848649              0.181935             -0.047663        1   \n",
              "4             -0.847865              0.185151             -0.043892        1   \n",
              "\n",
              "   Activity  \n",
              "0  STANDING  \n",
              "1  STANDING  \n",
              "2  STANDING  \n",
              "3  STANDING  \n",
              "4  STANDING  \n",
              "\n",
              "[5 rows x 563 columns]"
            ],
            "text/html": [
              "\n",
              "  <div id=\"df-85c2cb4e-482b-41f2-9d0b-f7b653db677c\">\n",
              "    <div class=\"colab-df-container\">\n",
              "      <div>\n",
              "<style scoped>\n",
              "    .dataframe tbody tr th:only-of-type {\n",
              "        vertical-align: middle;\n",
              "    }\n",
              "\n",
              "    .dataframe tbody tr th {\n",
              "        vertical-align: top;\n",
              "    }\n",
              "\n",
              "    .dataframe thead th {\n",
              "        text-align: right;\n",
              "    }\n",
              "</style>\n",
              "<table border=\"1\" class=\"dataframe\">\n",
              "  <thead>\n",
              "    <tr style=\"text-align: right;\">\n",
              "      <th></th>\n",
              "      <th>tBodyAcc-mean()-X</th>\n",
              "      <th>tBodyAcc-mean()-Y</th>\n",
              "      <th>tBodyAcc-mean()-Z</th>\n",
              "      <th>tBodyAcc-std()-X</th>\n",
              "      <th>tBodyAcc-std()-Y</th>\n",
              "      <th>tBodyAcc-std()-Z</th>\n",
              "      <th>tBodyAcc-mad()-X</th>\n",
              "      <th>tBodyAcc-mad()-Y</th>\n",
              "      <th>tBodyAcc-mad()-Z</th>\n",
              "      <th>tBodyAcc-max()-X</th>\n",
              "      <th>...</th>\n",
              "      <th>fBodyBodyGyroJerkMag-kurtosis()</th>\n",
              "      <th>angle(tBodyAccMean,gravity)</th>\n",
              "      <th>angle(tBodyAccJerkMean),gravityMean)</th>\n",
              "      <th>angle(tBodyGyroMean,gravityMean)</th>\n",
              "      <th>angle(tBodyGyroJerkMean,gravityMean)</th>\n",
              "      <th>angle(X,gravityMean)</th>\n",
              "      <th>angle(Y,gravityMean)</th>\n",
              "      <th>angle(Z,gravityMean)</th>\n",
              "      <th>subject</th>\n",
              "      <th>Activity</th>\n",
              "    </tr>\n",
              "  </thead>\n",
              "  <tbody>\n",
              "    <tr>\n",
              "      <th>0</th>\n",
              "      <td>0.288585</td>\n",
              "      <td>-0.020294</td>\n",
              "      <td>-0.132905</td>\n",
              "      <td>-0.995279</td>\n",
              "      <td>-0.983111</td>\n",
              "      <td>-0.913526</td>\n",
              "      <td>-0.995112</td>\n",
              "      <td>-0.983185</td>\n",
              "      <td>-0.923527</td>\n",
              "      <td>-0.934724</td>\n",
              "      <td>...</td>\n",
              "      <td>-0.710304</td>\n",
              "      <td>-0.112754</td>\n",
              "      <td>0.030400</td>\n",
              "      <td>-0.464761</td>\n",
              "      <td>-0.018446</td>\n",
              "      <td>-0.841247</td>\n",
              "      <td>0.179941</td>\n",
              "      <td>-0.058627</td>\n",
              "      <td>1</td>\n",
              "      <td>STANDING</td>\n",
              "    </tr>\n",
              "    <tr>\n",
              "      <th>1</th>\n",
              "      <td>0.278419</td>\n",
              "      <td>-0.016411</td>\n",
              "      <td>-0.123520</td>\n",
              "      <td>-0.998245</td>\n",
              "      <td>-0.975300</td>\n",
              "      <td>-0.960322</td>\n",
              "      <td>-0.998807</td>\n",
              "      <td>-0.974914</td>\n",
              "      <td>-0.957686</td>\n",
              "      <td>-0.943068</td>\n",
              "      <td>...</td>\n",
              "      <td>-0.861499</td>\n",
              "      <td>0.053477</td>\n",
              "      <td>-0.007435</td>\n",
              "      <td>-0.732626</td>\n",
              "      <td>0.703511</td>\n",
              "      <td>-0.844788</td>\n",
              "      <td>0.180289</td>\n",
              "      <td>-0.054317</td>\n",
              "      <td>1</td>\n",
              "      <td>STANDING</td>\n",
              "    </tr>\n",
              "    <tr>\n",
              "      <th>2</th>\n",
              "      <td>0.279653</td>\n",
              "      <td>-0.019467</td>\n",
              "      <td>-0.113462</td>\n",
              "      <td>-0.995380</td>\n",
              "      <td>-0.967187</td>\n",
              "      <td>-0.978944</td>\n",
              "      <td>-0.996520</td>\n",
              "      <td>-0.963668</td>\n",
              "      <td>-0.977469</td>\n",
              "      <td>-0.938692</td>\n",
              "      <td>...</td>\n",
              "      <td>-0.760104</td>\n",
              "      <td>-0.118559</td>\n",
              "      <td>0.177899</td>\n",
              "      <td>0.100699</td>\n",
              "      <td>0.808529</td>\n",
              "      <td>-0.848933</td>\n",
              "      <td>0.180637</td>\n",
              "      <td>-0.049118</td>\n",
              "      <td>1</td>\n",
              "      <td>STANDING</td>\n",
              "    </tr>\n",
              "    <tr>\n",
              "      <th>3</th>\n",
              "      <td>0.279174</td>\n",
              "      <td>-0.026201</td>\n",
              "      <td>-0.123283</td>\n",
              "      <td>-0.996091</td>\n",
              "      <td>-0.983403</td>\n",
              "      <td>-0.990675</td>\n",
              "      <td>-0.997099</td>\n",
              "      <td>-0.982750</td>\n",
              "      <td>-0.989302</td>\n",
              "      <td>-0.938692</td>\n",
              "      <td>...</td>\n",
              "      <td>-0.482845</td>\n",
              "      <td>-0.036788</td>\n",
              "      <td>-0.012892</td>\n",
              "      <td>0.640011</td>\n",
              "      <td>-0.485366</td>\n",
              "      <td>-0.848649</td>\n",
              "      <td>0.181935</td>\n",
              "      <td>-0.047663</td>\n",
              "      <td>1</td>\n",
              "      <td>STANDING</td>\n",
              "    </tr>\n",
              "    <tr>\n",
              "      <th>4</th>\n",
              "      <td>0.276629</td>\n",
              "      <td>-0.016570</td>\n",
              "      <td>-0.115362</td>\n",
              "      <td>-0.998139</td>\n",
              "      <td>-0.980817</td>\n",
              "      <td>-0.990482</td>\n",
              "      <td>-0.998321</td>\n",
              "      <td>-0.979672</td>\n",
              "      <td>-0.990441</td>\n",
              "      <td>-0.942469</td>\n",
              "      <td>...</td>\n",
              "      <td>-0.699205</td>\n",
              "      <td>0.123320</td>\n",
              "      <td>0.122542</td>\n",
              "      <td>0.693578</td>\n",
              "      <td>-0.615971</td>\n",
              "      <td>-0.847865</td>\n",
              "      <td>0.185151</td>\n",
              "      <td>-0.043892</td>\n",
              "      <td>1</td>\n",
              "      <td>STANDING</td>\n",
              "    </tr>\n",
              "  </tbody>\n",
              "</table>\n",
              "<p>5 rows × 563 columns</p>\n",
              "</div>\n",
              "      <button class=\"colab-df-convert\" onclick=\"convertToInteractive('df-85c2cb4e-482b-41f2-9d0b-f7b653db677c')\"\n",
              "              title=\"Convert this dataframe to an interactive table.\"\n",
              "              style=\"display:none;\">\n",
              "        \n",
              "  <svg xmlns=\"http://www.w3.org/2000/svg\" height=\"24px\"viewBox=\"0 0 24 24\"\n",
              "       width=\"24px\">\n",
              "    <path d=\"M0 0h24v24H0V0z\" fill=\"none\"/>\n",
              "    <path d=\"M18.56 5.44l.94 2.06.94-2.06 2.06-.94-2.06-.94-.94-2.06-.94 2.06-2.06.94zm-11 1L8.5 8.5l.94-2.06 2.06-.94-2.06-.94L8.5 2.5l-.94 2.06-2.06.94zm10 10l.94 2.06.94-2.06 2.06-.94-2.06-.94-.94-2.06-.94 2.06-2.06.94z\"/><path d=\"M17.41 7.96l-1.37-1.37c-.4-.4-.92-.59-1.43-.59-.52 0-1.04.2-1.43.59L10.3 9.45l-7.72 7.72c-.78.78-.78 2.05 0 2.83L4 21.41c.39.39.9.59 1.41.59.51 0 1.02-.2 1.41-.59l7.78-7.78 2.81-2.81c.8-.78.8-2.07 0-2.86zM5.41 20L4 18.59l7.72-7.72 1.47 1.35L5.41 20z\"/>\n",
              "  </svg>\n",
              "      </button>\n",
              "      \n",
              "  <style>\n",
              "    .colab-df-container {\n",
              "      display:flex;\n",
              "      flex-wrap:wrap;\n",
              "      gap: 12px;\n",
              "    }\n",
              "\n",
              "    .colab-df-convert {\n",
              "      background-color: #E8F0FE;\n",
              "      border: none;\n",
              "      border-radius: 50%;\n",
              "      cursor: pointer;\n",
              "      display: none;\n",
              "      fill: #1967D2;\n",
              "      height: 32px;\n",
              "      padding: 0 0 0 0;\n",
              "      width: 32px;\n",
              "    }\n",
              "\n",
              "    .colab-df-convert:hover {\n",
              "      background-color: #E2EBFA;\n",
              "      box-shadow: 0px 1px 2px rgba(60, 64, 67, 0.3), 0px 1px 3px 1px rgba(60, 64, 67, 0.15);\n",
              "      fill: #174EA6;\n",
              "    }\n",
              "\n",
              "    [theme=dark] .colab-df-convert {\n",
              "      background-color: #3B4455;\n",
              "      fill: #D2E3FC;\n",
              "    }\n",
              "\n",
              "    [theme=dark] .colab-df-convert:hover {\n",
              "      background-color: #434B5C;\n",
              "      box-shadow: 0px 1px 3px 1px rgba(0, 0, 0, 0.15);\n",
              "      filter: drop-shadow(0px 1px 2px rgba(0, 0, 0, 0.3));\n",
              "      fill: #FFFFFF;\n",
              "    }\n",
              "  </style>\n",
              "\n",
              "      <script>\n",
              "        const buttonEl =\n",
              "          document.querySelector('#df-85c2cb4e-482b-41f2-9d0b-f7b653db677c button.colab-df-convert');\n",
              "        buttonEl.style.display =\n",
              "          google.colab.kernel.accessAllowed ? 'block' : 'none';\n",
              "\n",
              "        async function convertToInteractive(key) {\n",
              "          const element = document.querySelector('#df-85c2cb4e-482b-41f2-9d0b-f7b653db677c');\n",
              "          const dataTable =\n",
              "            await google.colab.kernel.invokeFunction('convertToInteractive',\n",
              "                                                     [key], {});\n",
              "          if (!dataTable) return;\n",
              "\n",
              "          const docLinkHtml = 'Like what you see? Visit the ' +\n",
              "            '<a target=\"_blank\" href=https://colab.research.google.com/notebooks/data_table.ipynb>data table notebook</a>'\n",
              "            + ' to learn more about interactive tables.';\n",
              "          element.innerHTML = '';\n",
              "          dataTable['output_type'] = 'display_data';\n",
              "          await google.colab.output.renderOutput(dataTable, element);\n",
              "          const docLink = document.createElement('div');\n",
              "          docLink.innerHTML = docLinkHtml;\n",
              "          element.appendChild(docLink);\n",
              "        }\n",
              "      </script>\n",
              "    </div>\n",
              "  </div>\n",
              "  "
            ]
          },
          "metadata": {},
          "execution_count": 69
        }
      ]
    },
    {
      "cell_type": "code",
      "source": [
        "df_train.tail() #displays last 5 rows"
      ],
      "metadata": {
        "execution": {
          "iopub.status.busy": "2022-05-19T07:37:13.376587Z",
          "iopub.execute_input": "2022-05-19T07:37:13.376901Z",
          "iopub.status.idle": "2022-05-19T07:37:13.405767Z",
          "shell.execute_reply.started": "2022-05-19T07:37:13.376865Z",
          "shell.execute_reply": "2022-05-19T07:37:13.404782Z"
        },
        "trusted": true,
        "colab": {
          "base_uri": "https://localhost:8080/",
          "height": 317
        },
        "id": "zYp_2uvOZM3p",
        "outputId": "0fcc4781-5966-43e2-b461-37d81ff0e259"
      },
      "execution_count": 70,
      "outputs": [
        {
          "output_type": "execute_result",
          "data": {
            "text/plain": [
              "      tBodyAcc-mean()-X  tBodyAcc-mean()-Y  tBodyAcc-mean()-Z  \\\n",
              "7347           0.299665          -0.057193          -0.181233   \n",
              "7348           0.273853          -0.007749          -0.147468   \n",
              "7349           0.273387          -0.017011          -0.045022   \n",
              "7350           0.289654          -0.018843          -0.158281   \n",
              "7351           0.351503          -0.012423          -0.203867   \n",
              "\n",
              "      tBodyAcc-std()-X  tBodyAcc-std()-Y  tBodyAcc-std()-Z  tBodyAcc-mad()-X  \\\n",
              "7347         -0.195387          0.039905          0.077078         -0.282301   \n",
              "7348         -0.235309          0.004816          0.059280         -0.322552   \n",
              "7349         -0.218218         -0.103822          0.274533         -0.304515   \n",
              "7350         -0.219139         -0.111412          0.268893         -0.310487   \n",
              "7351         -0.269270         -0.087212          0.177404         -0.377404   \n",
              "\n",
              "      tBodyAcc-mad()-Y  tBodyAcc-mad()-Z  tBodyAcc-max()-X  ...  \\\n",
              "7347          0.043616          0.060410          0.210795  ...   \n",
              "7348         -0.029456          0.080585          0.117440  ...   \n",
              "7349         -0.098913          0.332584          0.043999  ...   \n",
              "7350         -0.068200          0.319473          0.101702  ...   \n",
              "7351         -0.038678          0.229430          0.269013  ...   \n",
              "\n",
              "      fBodyBodyGyroJerkMag-kurtosis()  angle(tBodyAccMean,gravity)  \\\n",
              "7347                        -0.880324                    -0.190437   \n",
              "7348                        -0.680744                     0.064907   \n",
              "7349                        -0.304029                     0.052806   \n",
              "7350                        -0.344314                    -0.101360   \n",
              "7351                        -0.740738                    -0.280088   \n",
              "\n",
              "      angle(tBodyAccJerkMean),gravityMean)  angle(tBodyGyroMean,gravityMean)  \\\n",
              "7347                              0.829718                          0.206972   \n",
              "7348                              0.875679                         -0.879033   \n",
              "7349                             -0.266724                          0.864404   \n",
              "7350                              0.700740                          0.936674   \n",
              "7351                             -0.007739                         -0.056088   \n",
              "\n",
              "      angle(tBodyGyroJerkMean,gravityMean)  angle(X,gravityMean)  \\\n",
              "7347                             -0.425619             -0.791883   \n",
              "7348                              0.400219             -0.771840   \n",
              "7349                              0.701169             -0.779133   \n",
              "7350                             -0.589479             -0.785181   \n",
              "7351                             -0.616956             -0.783267   \n",
              "\n",
              "      angle(Y,gravityMean)  angle(Z,gravityMean)  subject          Activity  \n",
              "7347              0.238604              0.049819       30  WALKING_UPSTAIRS  \n",
              "7348              0.252676              0.050053       30  WALKING_UPSTAIRS  \n",
              "7349              0.249145              0.040811       30  WALKING_UPSTAIRS  \n",
              "7350              0.246432              0.025339       30  WALKING_UPSTAIRS  \n",
              "7351              0.246809              0.036695       30  WALKING_UPSTAIRS  \n",
              "\n",
              "[5 rows x 563 columns]"
            ],
            "text/html": [
              "\n",
              "  <div id=\"df-39c0f94c-842f-42b3-9bb2-c416a1846162\">\n",
              "    <div class=\"colab-df-container\">\n",
              "      <div>\n",
              "<style scoped>\n",
              "    .dataframe tbody tr th:only-of-type {\n",
              "        vertical-align: middle;\n",
              "    }\n",
              "\n",
              "    .dataframe tbody tr th {\n",
              "        vertical-align: top;\n",
              "    }\n",
              "\n",
              "    .dataframe thead th {\n",
              "        text-align: right;\n",
              "    }\n",
              "</style>\n",
              "<table border=\"1\" class=\"dataframe\">\n",
              "  <thead>\n",
              "    <tr style=\"text-align: right;\">\n",
              "      <th></th>\n",
              "      <th>tBodyAcc-mean()-X</th>\n",
              "      <th>tBodyAcc-mean()-Y</th>\n",
              "      <th>tBodyAcc-mean()-Z</th>\n",
              "      <th>tBodyAcc-std()-X</th>\n",
              "      <th>tBodyAcc-std()-Y</th>\n",
              "      <th>tBodyAcc-std()-Z</th>\n",
              "      <th>tBodyAcc-mad()-X</th>\n",
              "      <th>tBodyAcc-mad()-Y</th>\n",
              "      <th>tBodyAcc-mad()-Z</th>\n",
              "      <th>tBodyAcc-max()-X</th>\n",
              "      <th>...</th>\n",
              "      <th>fBodyBodyGyroJerkMag-kurtosis()</th>\n",
              "      <th>angle(tBodyAccMean,gravity)</th>\n",
              "      <th>angle(tBodyAccJerkMean),gravityMean)</th>\n",
              "      <th>angle(tBodyGyroMean,gravityMean)</th>\n",
              "      <th>angle(tBodyGyroJerkMean,gravityMean)</th>\n",
              "      <th>angle(X,gravityMean)</th>\n",
              "      <th>angle(Y,gravityMean)</th>\n",
              "      <th>angle(Z,gravityMean)</th>\n",
              "      <th>subject</th>\n",
              "      <th>Activity</th>\n",
              "    </tr>\n",
              "  </thead>\n",
              "  <tbody>\n",
              "    <tr>\n",
              "      <th>7347</th>\n",
              "      <td>0.299665</td>\n",
              "      <td>-0.057193</td>\n",
              "      <td>-0.181233</td>\n",
              "      <td>-0.195387</td>\n",
              "      <td>0.039905</td>\n",
              "      <td>0.077078</td>\n",
              "      <td>-0.282301</td>\n",
              "      <td>0.043616</td>\n",
              "      <td>0.060410</td>\n",
              "      <td>0.210795</td>\n",
              "      <td>...</td>\n",
              "      <td>-0.880324</td>\n",
              "      <td>-0.190437</td>\n",
              "      <td>0.829718</td>\n",
              "      <td>0.206972</td>\n",
              "      <td>-0.425619</td>\n",
              "      <td>-0.791883</td>\n",
              "      <td>0.238604</td>\n",
              "      <td>0.049819</td>\n",
              "      <td>30</td>\n",
              "      <td>WALKING_UPSTAIRS</td>\n",
              "    </tr>\n",
              "    <tr>\n",
              "      <th>7348</th>\n",
              "      <td>0.273853</td>\n",
              "      <td>-0.007749</td>\n",
              "      <td>-0.147468</td>\n",
              "      <td>-0.235309</td>\n",
              "      <td>0.004816</td>\n",
              "      <td>0.059280</td>\n",
              "      <td>-0.322552</td>\n",
              "      <td>-0.029456</td>\n",
              "      <td>0.080585</td>\n",
              "      <td>0.117440</td>\n",
              "      <td>...</td>\n",
              "      <td>-0.680744</td>\n",
              "      <td>0.064907</td>\n",
              "      <td>0.875679</td>\n",
              "      <td>-0.879033</td>\n",
              "      <td>0.400219</td>\n",
              "      <td>-0.771840</td>\n",
              "      <td>0.252676</td>\n",
              "      <td>0.050053</td>\n",
              "      <td>30</td>\n",
              "      <td>WALKING_UPSTAIRS</td>\n",
              "    </tr>\n",
              "    <tr>\n",
              "      <th>7349</th>\n",
              "      <td>0.273387</td>\n",
              "      <td>-0.017011</td>\n",
              "      <td>-0.045022</td>\n",
              "      <td>-0.218218</td>\n",
              "      <td>-0.103822</td>\n",
              "      <td>0.274533</td>\n",
              "      <td>-0.304515</td>\n",
              "      <td>-0.098913</td>\n",
              "      <td>0.332584</td>\n",
              "      <td>0.043999</td>\n",
              "      <td>...</td>\n",
              "      <td>-0.304029</td>\n",
              "      <td>0.052806</td>\n",
              "      <td>-0.266724</td>\n",
              "      <td>0.864404</td>\n",
              "      <td>0.701169</td>\n",
              "      <td>-0.779133</td>\n",
              "      <td>0.249145</td>\n",
              "      <td>0.040811</td>\n",
              "      <td>30</td>\n",
              "      <td>WALKING_UPSTAIRS</td>\n",
              "    </tr>\n",
              "    <tr>\n",
              "      <th>7350</th>\n",
              "      <td>0.289654</td>\n",
              "      <td>-0.018843</td>\n",
              "      <td>-0.158281</td>\n",
              "      <td>-0.219139</td>\n",
              "      <td>-0.111412</td>\n",
              "      <td>0.268893</td>\n",
              "      <td>-0.310487</td>\n",
              "      <td>-0.068200</td>\n",
              "      <td>0.319473</td>\n",
              "      <td>0.101702</td>\n",
              "      <td>...</td>\n",
              "      <td>-0.344314</td>\n",
              "      <td>-0.101360</td>\n",
              "      <td>0.700740</td>\n",
              "      <td>0.936674</td>\n",
              "      <td>-0.589479</td>\n",
              "      <td>-0.785181</td>\n",
              "      <td>0.246432</td>\n",
              "      <td>0.025339</td>\n",
              "      <td>30</td>\n",
              "      <td>WALKING_UPSTAIRS</td>\n",
              "    </tr>\n",
              "    <tr>\n",
              "      <th>7351</th>\n",
              "      <td>0.351503</td>\n",
              "      <td>-0.012423</td>\n",
              "      <td>-0.203867</td>\n",
              "      <td>-0.269270</td>\n",
              "      <td>-0.087212</td>\n",
              "      <td>0.177404</td>\n",
              "      <td>-0.377404</td>\n",
              "      <td>-0.038678</td>\n",
              "      <td>0.229430</td>\n",
              "      <td>0.269013</td>\n",
              "      <td>...</td>\n",
              "      <td>-0.740738</td>\n",
              "      <td>-0.280088</td>\n",
              "      <td>-0.007739</td>\n",
              "      <td>-0.056088</td>\n",
              "      <td>-0.616956</td>\n",
              "      <td>-0.783267</td>\n",
              "      <td>0.246809</td>\n",
              "      <td>0.036695</td>\n",
              "      <td>30</td>\n",
              "      <td>WALKING_UPSTAIRS</td>\n",
              "    </tr>\n",
              "  </tbody>\n",
              "</table>\n",
              "<p>5 rows × 563 columns</p>\n",
              "</div>\n",
              "      <button class=\"colab-df-convert\" onclick=\"convertToInteractive('df-39c0f94c-842f-42b3-9bb2-c416a1846162')\"\n",
              "              title=\"Convert this dataframe to an interactive table.\"\n",
              "              style=\"display:none;\">\n",
              "        \n",
              "  <svg xmlns=\"http://www.w3.org/2000/svg\" height=\"24px\"viewBox=\"0 0 24 24\"\n",
              "       width=\"24px\">\n",
              "    <path d=\"M0 0h24v24H0V0z\" fill=\"none\"/>\n",
              "    <path d=\"M18.56 5.44l.94 2.06.94-2.06 2.06-.94-2.06-.94-.94-2.06-.94 2.06-2.06.94zm-11 1L8.5 8.5l.94-2.06 2.06-.94-2.06-.94L8.5 2.5l-.94 2.06-2.06.94zm10 10l.94 2.06.94-2.06 2.06-.94-2.06-.94-.94-2.06-.94 2.06-2.06.94z\"/><path d=\"M17.41 7.96l-1.37-1.37c-.4-.4-.92-.59-1.43-.59-.52 0-1.04.2-1.43.59L10.3 9.45l-7.72 7.72c-.78.78-.78 2.05 0 2.83L4 21.41c.39.39.9.59 1.41.59.51 0 1.02-.2 1.41-.59l7.78-7.78 2.81-2.81c.8-.78.8-2.07 0-2.86zM5.41 20L4 18.59l7.72-7.72 1.47 1.35L5.41 20z\"/>\n",
              "  </svg>\n",
              "      </button>\n",
              "      \n",
              "  <style>\n",
              "    .colab-df-container {\n",
              "      display:flex;\n",
              "      flex-wrap:wrap;\n",
              "      gap: 12px;\n",
              "    }\n",
              "\n",
              "    .colab-df-convert {\n",
              "      background-color: #E8F0FE;\n",
              "      border: none;\n",
              "      border-radius: 50%;\n",
              "      cursor: pointer;\n",
              "      display: none;\n",
              "      fill: #1967D2;\n",
              "      height: 32px;\n",
              "      padding: 0 0 0 0;\n",
              "      width: 32px;\n",
              "    }\n",
              "\n",
              "    .colab-df-convert:hover {\n",
              "      background-color: #E2EBFA;\n",
              "      box-shadow: 0px 1px 2px rgba(60, 64, 67, 0.3), 0px 1px 3px 1px rgba(60, 64, 67, 0.15);\n",
              "      fill: #174EA6;\n",
              "    }\n",
              "\n",
              "    [theme=dark] .colab-df-convert {\n",
              "      background-color: #3B4455;\n",
              "      fill: #D2E3FC;\n",
              "    }\n",
              "\n",
              "    [theme=dark] .colab-df-convert:hover {\n",
              "      background-color: #434B5C;\n",
              "      box-shadow: 0px 1px 3px 1px rgba(0, 0, 0, 0.15);\n",
              "      filter: drop-shadow(0px 1px 2px rgba(0, 0, 0, 0.3));\n",
              "      fill: #FFFFFF;\n",
              "    }\n",
              "  </style>\n",
              "\n",
              "      <script>\n",
              "        const buttonEl =\n",
              "          document.querySelector('#df-39c0f94c-842f-42b3-9bb2-c416a1846162 button.colab-df-convert');\n",
              "        buttonEl.style.display =\n",
              "          google.colab.kernel.accessAllowed ? 'block' : 'none';\n",
              "\n",
              "        async function convertToInteractive(key) {\n",
              "          const element = document.querySelector('#df-39c0f94c-842f-42b3-9bb2-c416a1846162');\n",
              "          const dataTable =\n",
              "            await google.colab.kernel.invokeFunction('convertToInteractive',\n",
              "                                                     [key], {});\n",
              "          if (!dataTable) return;\n",
              "\n",
              "          const docLinkHtml = 'Like what you see? Visit the ' +\n",
              "            '<a target=\"_blank\" href=https://colab.research.google.com/notebooks/data_table.ipynb>data table notebook</a>'\n",
              "            + ' to learn more about interactive tables.';\n",
              "          element.innerHTML = '';\n",
              "          dataTable['output_type'] = 'display_data';\n",
              "          await google.colab.output.renderOutput(dataTable, element);\n",
              "          const docLink = document.createElement('div');\n",
              "          docLink.innerHTML = docLinkHtml;\n",
              "          element.appendChild(docLink);\n",
              "        }\n",
              "      </script>\n",
              "    </div>\n",
              "  </div>\n",
              "  "
            ]
          },
          "metadata": {},
          "execution_count": 70
        }
      ]
    },
    {
      "cell_type": "markdown",
      "source": [
        "#  EDA "
      ],
      "metadata": {
        "id": "S7vtWmXNZM3q"
      }
    },
    {
      "cell_type": "code",
      "source": [
        "df_train.shape #rows and columns "
      ],
      "metadata": {
        "execution": {
          "iopub.status.busy": "2022-05-19T07:37:13.407397Z",
          "iopub.execute_input": "2022-05-19T07:37:13.407975Z",
          "iopub.status.idle": "2022-05-19T07:37:13.414445Z",
          "shell.execute_reply.started": "2022-05-19T07:37:13.407927Z",
          "shell.execute_reply": "2022-05-19T07:37:13.4134Z"
        },
        "trusted": true,
        "colab": {
          "base_uri": "https://localhost:8080/"
        },
        "id": "5BM_s94MZM3r",
        "outputId": "9ec00b88-5397-4f56-fe6d-747a9c69f27e"
      },
      "execution_count": 71,
      "outputs": [
        {
          "output_type": "execute_result",
          "data": {
            "text/plain": [
              "(7352, 563)"
            ]
          },
          "metadata": {},
          "execution_count": 71
        }
      ]
    },
    {
      "cell_type": "code",
      "source": [
        "df_train.isnull().sum() #returns the number of missing values in the data set."
      ],
      "metadata": {
        "execution": {
          "iopub.status.busy": "2022-05-19T07:37:13.415697Z",
          "iopub.execute_input": "2022-05-19T07:37:13.415941Z",
          "iopub.status.idle": "2022-05-19T07:37:13.448005Z",
          "shell.execute_reply.started": "2022-05-19T07:37:13.415913Z",
          "shell.execute_reply": "2022-05-19T07:37:13.446801Z"
        },
        "trusted": true,
        "colab": {
          "base_uri": "https://localhost:8080/"
        },
        "id": "jTqCo8PNZM3s",
        "outputId": "ca6dca4f-271d-497e-d076-522876826f98"
      },
      "execution_count": 72,
      "outputs": [
        {
          "output_type": "execute_result",
          "data": {
            "text/plain": [
              "tBodyAcc-mean()-X       0\n",
              "tBodyAcc-mean()-Y       0\n",
              "tBodyAcc-mean()-Z       0\n",
              "tBodyAcc-std()-X        0\n",
              "tBodyAcc-std()-Y        0\n",
              "                       ..\n",
              "angle(X,gravityMean)    0\n",
              "angle(Y,gravityMean)    0\n",
              "angle(Z,gravityMean)    0\n",
              "subject                 0\n",
              "Activity                0\n",
              "Length: 563, dtype: int64"
            ]
          },
          "metadata": {},
          "execution_count": 72
        }
      ]
    },
    {
      "cell_type": "code",
      "source": [
        "df_train.describe() # view some basic statistical details like percentile, mean, std etc. of a data frame or a series of numeric values."
      ],
      "metadata": {
        "execution": {
          "iopub.status.busy": "2022-05-19T07:37:13.449632Z",
          "iopub.execute_input": "2022-05-19T07:37:13.449871Z",
          "iopub.status.idle": "2022-05-19T07:37:14.668552Z",
          "shell.execute_reply.started": "2022-05-19T07:37:13.449842Z",
          "shell.execute_reply": "2022-05-19T07:37:14.66754Z"
        },
        "trusted": true,
        "colab": {
          "base_uri": "https://localhost:8080/",
          "height": 411
        },
        "id": "PIiNJkYLZM3t",
        "outputId": "2bd26c64-a72d-4e3c-f915-fb86016a4a85"
      },
      "execution_count": 73,
      "outputs": [
        {
          "output_type": "execute_result",
          "data": {
            "text/plain": [
              "       tBodyAcc-mean()-X  tBodyAcc-mean()-Y  tBodyAcc-mean()-Z  \\\n",
              "count        7352.000000        7352.000000        7352.000000   \n",
              "mean            0.274488          -0.017695          -0.109141   \n",
              "std             0.070261           0.040811           0.056635   \n",
              "min            -1.000000          -1.000000          -1.000000   \n",
              "25%             0.262975          -0.024863          -0.120993   \n",
              "50%             0.277193          -0.017219          -0.108676   \n",
              "75%             0.288461          -0.010783          -0.097794   \n",
              "max             1.000000           1.000000           1.000000   \n",
              "\n",
              "       tBodyAcc-std()-X  tBodyAcc-std()-Y  tBodyAcc-std()-Z  tBodyAcc-mad()-X  \\\n",
              "count       7352.000000       7352.000000       7352.000000       7352.000000   \n",
              "mean          -0.605438         -0.510938         -0.604754         -0.630512   \n",
              "std            0.448734          0.502645          0.418687          0.424073   \n",
              "min           -1.000000         -0.999873         -1.000000         -1.000000   \n",
              "25%           -0.992754         -0.978129         -0.980233         -0.993591   \n",
              "50%           -0.946196         -0.851897         -0.859365         -0.950709   \n",
              "75%           -0.242813         -0.034231         -0.262415         -0.292680   \n",
              "max            1.000000          0.916238          1.000000          1.000000   \n",
              "\n",
              "       tBodyAcc-mad()-Y  tBodyAcc-mad()-Z  tBodyAcc-max()-X  ...  \\\n",
              "count       7352.000000       7352.000000       7352.000000  ...   \n",
              "mean          -0.526907         -0.606150         -0.468604  ...   \n",
              "std            0.485942          0.414122          0.544547  ...   \n",
              "min           -1.000000         -1.000000         -1.000000  ...   \n",
              "25%           -0.978162         -0.980251         -0.936219  ...   \n",
              "50%           -0.857328         -0.857143         -0.881637  ...   \n",
              "75%           -0.066701         -0.265671         -0.017129  ...   \n",
              "max            0.967664          1.000000          1.000000  ...   \n",
              "\n",
              "       fBodyBodyGyroJerkMag-skewness()  fBodyBodyGyroJerkMag-kurtosis()  \\\n",
              "count                      7352.000000                      7352.000000   \n",
              "mean                         -0.307009                        -0.625294   \n",
              "std                           0.321011                         0.307584   \n",
              "min                          -0.995357                        -0.999765   \n",
              "25%                          -0.542602                        -0.845573   \n",
              "50%                          -0.343685                        -0.711692   \n",
              "75%                          -0.126979                        -0.503878   \n",
              "max                           0.989538                         0.956845   \n",
              "\n",
              "       angle(tBodyAccMean,gravity)  angle(tBodyAccJerkMean),gravityMean)  \\\n",
              "count                  7352.000000                           7352.000000   \n",
              "mean                      0.008684                              0.002186   \n",
              "std                       0.336787                              0.448306   \n",
              "min                      -0.976580                             -1.000000   \n",
              "25%                      -0.121527                             -0.289549   \n",
              "50%                       0.009509                              0.008943   \n",
              "75%                       0.150865                              0.292861   \n",
              "max                       1.000000                              1.000000   \n",
              "\n",
              "       angle(tBodyGyroMean,gravityMean)  angle(tBodyGyroJerkMean,gravityMean)  \\\n",
              "count                       7352.000000                           7352.000000   \n",
              "mean                           0.008726                             -0.005981   \n",
              "std                            0.608303                              0.477975   \n",
              "min                           -1.000000                             -1.000000   \n",
              "25%                           -0.482273                             -0.376341   \n",
              "50%                            0.008735                             -0.000368   \n",
              "75%                            0.506187                              0.359368   \n",
              "max                            0.998702                              0.996078   \n",
              "\n",
              "       angle(X,gravityMean)  angle(Y,gravityMean)  angle(Z,gravityMean)  \\\n",
              "count           7352.000000           7352.000000           7352.000000   \n",
              "mean              -0.489547              0.058593             -0.056515   \n",
              "std                0.511807              0.297480              0.279122   \n",
              "min               -1.000000             -1.000000             -1.000000   \n",
              "25%               -0.812065             -0.017885             -0.143414   \n",
              "50%               -0.709417              0.182071              0.003181   \n",
              "75%               -0.509079              0.248353              0.107659   \n",
              "max                1.000000              0.478157              1.000000   \n",
              "\n",
              "           subject  \n",
              "count  7352.000000  \n",
              "mean     17.413085  \n",
              "std       8.975143  \n",
              "min       1.000000  \n",
              "25%       8.000000  \n",
              "50%      19.000000  \n",
              "75%      26.000000  \n",
              "max      30.000000  \n",
              "\n",
              "[8 rows x 562 columns]"
            ],
            "text/html": [
              "\n",
              "  <div id=\"df-1110cca4-db0e-415c-956e-f65fab38b840\">\n",
              "    <div class=\"colab-df-container\">\n",
              "      <div>\n",
              "<style scoped>\n",
              "    .dataframe tbody tr th:only-of-type {\n",
              "        vertical-align: middle;\n",
              "    }\n",
              "\n",
              "    .dataframe tbody tr th {\n",
              "        vertical-align: top;\n",
              "    }\n",
              "\n",
              "    .dataframe thead th {\n",
              "        text-align: right;\n",
              "    }\n",
              "</style>\n",
              "<table border=\"1\" class=\"dataframe\">\n",
              "  <thead>\n",
              "    <tr style=\"text-align: right;\">\n",
              "      <th></th>\n",
              "      <th>tBodyAcc-mean()-X</th>\n",
              "      <th>tBodyAcc-mean()-Y</th>\n",
              "      <th>tBodyAcc-mean()-Z</th>\n",
              "      <th>tBodyAcc-std()-X</th>\n",
              "      <th>tBodyAcc-std()-Y</th>\n",
              "      <th>tBodyAcc-std()-Z</th>\n",
              "      <th>tBodyAcc-mad()-X</th>\n",
              "      <th>tBodyAcc-mad()-Y</th>\n",
              "      <th>tBodyAcc-mad()-Z</th>\n",
              "      <th>tBodyAcc-max()-X</th>\n",
              "      <th>...</th>\n",
              "      <th>fBodyBodyGyroJerkMag-skewness()</th>\n",
              "      <th>fBodyBodyGyroJerkMag-kurtosis()</th>\n",
              "      <th>angle(tBodyAccMean,gravity)</th>\n",
              "      <th>angle(tBodyAccJerkMean),gravityMean)</th>\n",
              "      <th>angle(tBodyGyroMean,gravityMean)</th>\n",
              "      <th>angle(tBodyGyroJerkMean,gravityMean)</th>\n",
              "      <th>angle(X,gravityMean)</th>\n",
              "      <th>angle(Y,gravityMean)</th>\n",
              "      <th>angle(Z,gravityMean)</th>\n",
              "      <th>subject</th>\n",
              "    </tr>\n",
              "  </thead>\n",
              "  <tbody>\n",
              "    <tr>\n",
              "      <th>count</th>\n",
              "      <td>7352.000000</td>\n",
              "      <td>7352.000000</td>\n",
              "      <td>7352.000000</td>\n",
              "      <td>7352.000000</td>\n",
              "      <td>7352.000000</td>\n",
              "      <td>7352.000000</td>\n",
              "      <td>7352.000000</td>\n",
              "      <td>7352.000000</td>\n",
              "      <td>7352.000000</td>\n",
              "      <td>7352.000000</td>\n",
              "      <td>...</td>\n",
              "      <td>7352.000000</td>\n",
              "      <td>7352.000000</td>\n",
              "      <td>7352.000000</td>\n",
              "      <td>7352.000000</td>\n",
              "      <td>7352.000000</td>\n",
              "      <td>7352.000000</td>\n",
              "      <td>7352.000000</td>\n",
              "      <td>7352.000000</td>\n",
              "      <td>7352.000000</td>\n",
              "      <td>7352.000000</td>\n",
              "    </tr>\n",
              "    <tr>\n",
              "      <th>mean</th>\n",
              "      <td>0.274488</td>\n",
              "      <td>-0.017695</td>\n",
              "      <td>-0.109141</td>\n",
              "      <td>-0.605438</td>\n",
              "      <td>-0.510938</td>\n",
              "      <td>-0.604754</td>\n",
              "      <td>-0.630512</td>\n",
              "      <td>-0.526907</td>\n",
              "      <td>-0.606150</td>\n",
              "      <td>-0.468604</td>\n",
              "      <td>...</td>\n",
              "      <td>-0.307009</td>\n",
              "      <td>-0.625294</td>\n",
              "      <td>0.008684</td>\n",
              "      <td>0.002186</td>\n",
              "      <td>0.008726</td>\n",
              "      <td>-0.005981</td>\n",
              "      <td>-0.489547</td>\n",
              "      <td>0.058593</td>\n",
              "      <td>-0.056515</td>\n",
              "      <td>17.413085</td>\n",
              "    </tr>\n",
              "    <tr>\n",
              "      <th>std</th>\n",
              "      <td>0.070261</td>\n",
              "      <td>0.040811</td>\n",
              "      <td>0.056635</td>\n",
              "      <td>0.448734</td>\n",
              "      <td>0.502645</td>\n",
              "      <td>0.418687</td>\n",
              "      <td>0.424073</td>\n",
              "      <td>0.485942</td>\n",
              "      <td>0.414122</td>\n",
              "      <td>0.544547</td>\n",
              "      <td>...</td>\n",
              "      <td>0.321011</td>\n",
              "      <td>0.307584</td>\n",
              "      <td>0.336787</td>\n",
              "      <td>0.448306</td>\n",
              "      <td>0.608303</td>\n",
              "      <td>0.477975</td>\n",
              "      <td>0.511807</td>\n",
              "      <td>0.297480</td>\n",
              "      <td>0.279122</td>\n",
              "      <td>8.975143</td>\n",
              "    </tr>\n",
              "    <tr>\n",
              "      <th>min</th>\n",
              "      <td>-1.000000</td>\n",
              "      <td>-1.000000</td>\n",
              "      <td>-1.000000</td>\n",
              "      <td>-1.000000</td>\n",
              "      <td>-0.999873</td>\n",
              "      <td>-1.000000</td>\n",
              "      <td>-1.000000</td>\n",
              "      <td>-1.000000</td>\n",
              "      <td>-1.000000</td>\n",
              "      <td>-1.000000</td>\n",
              "      <td>...</td>\n",
              "      <td>-0.995357</td>\n",
              "      <td>-0.999765</td>\n",
              "      <td>-0.976580</td>\n",
              "      <td>-1.000000</td>\n",
              "      <td>-1.000000</td>\n",
              "      <td>-1.000000</td>\n",
              "      <td>-1.000000</td>\n",
              "      <td>-1.000000</td>\n",
              "      <td>-1.000000</td>\n",
              "      <td>1.000000</td>\n",
              "    </tr>\n",
              "    <tr>\n",
              "      <th>25%</th>\n",
              "      <td>0.262975</td>\n",
              "      <td>-0.024863</td>\n",
              "      <td>-0.120993</td>\n",
              "      <td>-0.992754</td>\n",
              "      <td>-0.978129</td>\n",
              "      <td>-0.980233</td>\n",
              "      <td>-0.993591</td>\n",
              "      <td>-0.978162</td>\n",
              "      <td>-0.980251</td>\n",
              "      <td>-0.936219</td>\n",
              "      <td>...</td>\n",
              "      <td>-0.542602</td>\n",
              "      <td>-0.845573</td>\n",
              "      <td>-0.121527</td>\n",
              "      <td>-0.289549</td>\n",
              "      <td>-0.482273</td>\n",
              "      <td>-0.376341</td>\n",
              "      <td>-0.812065</td>\n",
              "      <td>-0.017885</td>\n",
              "      <td>-0.143414</td>\n",
              "      <td>8.000000</td>\n",
              "    </tr>\n",
              "    <tr>\n",
              "      <th>50%</th>\n",
              "      <td>0.277193</td>\n",
              "      <td>-0.017219</td>\n",
              "      <td>-0.108676</td>\n",
              "      <td>-0.946196</td>\n",
              "      <td>-0.851897</td>\n",
              "      <td>-0.859365</td>\n",
              "      <td>-0.950709</td>\n",
              "      <td>-0.857328</td>\n",
              "      <td>-0.857143</td>\n",
              "      <td>-0.881637</td>\n",
              "      <td>...</td>\n",
              "      <td>-0.343685</td>\n",
              "      <td>-0.711692</td>\n",
              "      <td>0.009509</td>\n",
              "      <td>0.008943</td>\n",
              "      <td>0.008735</td>\n",
              "      <td>-0.000368</td>\n",
              "      <td>-0.709417</td>\n",
              "      <td>0.182071</td>\n",
              "      <td>0.003181</td>\n",
              "      <td>19.000000</td>\n",
              "    </tr>\n",
              "    <tr>\n",
              "      <th>75%</th>\n",
              "      <td>0.288461</td>\n",
              "      <td>-0.010783</td>\n",
              "      <td>-0.097794</td>\n",
              "      <td>-0.242813</td>\n",
              "      <td>-0.034231</td>\n",
              "      <td>-0.262415</td>\n",
              "      <td>-0.292680</td>\n",
              "      <td>-0.066701</td>\n",
              "      <td>-0.265671</td>\n",
              "      <td>-0.017129</td>\n",
              "      <td>...</td>\n",
              "      <td>-0.126979</td>\n",
              "      <td>-0.503878</td>\n",
              "      <td>0.150865</td>\n",
              "      <td>0.292861</td>\n",
              "      <td>0.506187</td>\n",
              "      <td>0.359368</td>\n",
              "      <td>-0.509079</td>\n",
              "      <td>0.248353</td>\n",
              "      <td>0.107659</td>\n",
              "      <td>26.000000</td>\n",
              "    </tr>\n",
              "    <tr>\n",
              "      <th>max</th>\n",
              "      <td>1.000000</td>\n",
              "      <td>1.000000</td>\n",
              "      <td>1.000000</td>\n",
              "      <td>1.000000</td>\n",
              "      <td>0.916238</td>\n",
              "      <td>1.000000</td>\n",
              "      <td>1.000000</td>\n",
              "      <td>0.967664</td>\n",
              "      <td>1.000000</td>\n",
              "      <td>1.000000</td>\n",
              "      <td>...</td>\n",
              "      <td>0.989538</td>\n",
              "      <td>0.956845</td>\n",
              "      <td>1.000000</td>\n",
              "      <td>1.000000</td>\n",
              "      <td>0.998702</td>\n",
              "      <td>0.996078</td>\n",
              "      <td>1.000000</td>\n",
              "      <td>0.478157</td>\n",
              "      <td>1.000000</td>\n",
              "      <td>30.000000</td>\n",
              "    </tr>\n",
              "  </tbody>\n",
              "</table>\n",
              "<p>8 rows × 562 columns</p>\n",
              "</div>\n",
              "      <button class=\"colab-df-convert\" onclick=\"convertToInteractive('df-1110cca4-db0e-415c-956e-f65fab38b840')\"\n",
              "              title=\"Convert this dataframe to an interactive table.\"\n",
              "              style=\"display:none;\">\n",
              "        \n",
              "  <svg xmlns=\"http://www.w3.org/2000/svg\" height=\"24px\"viewBox=\"0 0 24 24\"\n",
              "       width=\"24px\">\n",
              "    <path d=\"M0 0h24v24H0V0z\" fill=\"none\"/>\n",
              "    <path d=\"M18.56 5.44l.94 2.06.94-2.06 2.06-.94-2.06-.94-.94-2.06-.94 2.06-2.06.94zm-11 1L8.5 8.5l.94-2.06 2.06-.94-2.06-.94L8.5 2.5l-.94 2.06-2.06.94zm10 10l.94 2.06.94-2.06 2.06-.94-2.06-.94-.94-2.06-.94 2.06-2.06.94z\"/><path d=\"M17.41 7.96l-1.37-1.37c-.4-.4-.92-.59-1.43-.59-.52 0-1.04.2-1.43.59L10.3 9.45l-7.72 7.72c-.78.78-.78 2.05 0 2.83L4 21.41c.39.39.9.59 1.41.59.51 0 1.02-.2 1.41-.59l7.78-7.78 2.81-2.81c.8-.78.8-2.07 0-2.86zM5.41 20L4 18.59l7.72-7.72 1.47 1.35L5.41 20z\"/>\n",
              "  </svg>\n",
              "      </button>\n",
              "      \n",
              "  <style>\n",
              "    .colab-df-container {\n",
              "      display:flex;\n",
              "      flex-wrap:wrap;\n",
              "      gap: 12px;\n",
              "    }\n",
              "\n",
              "    .colab-df-convert {\n",
              "      background-color: #E8F0FE;\n",
              "      border: none;\n",
              "      border-radius: 50%;\n",
              "      cursor: pointer;\n",
              "      display: none;\n",
              "      fill: #1967D2;\n",
              "      height: 32px;\n",
              "      padding: 0 0 0 0;\n",
              "      width: 32px;\n",
              "    }\n",
              "\n",
              "    .colab-df-convert:hover {\n",
              "      background-color: #E2EBFA;\n",
              "      box-shadow: 0px 1px 2px rgba(60, 64, 67, 0.3), 0px 1px 3px 1px rgba(60, 64, 67, 0.15);\n",
              "      fill: #174EA6;\n",
              "    }\n",
              "\n",
              "    [theme=dark] .colab-df-convert {\n",
              "      background-color: #3B4455;\n",
              "      fill: #D2E3FC;\n",
              "    }\n",
              "\n",
              "    [theme=dark] .colab-df-convert:hover {\n",
              "      background-color: #434B5C;\n",
              "      box-shadow: 0px 1px 3px 1px rgba(0, 0, 0, 0.15);\n",
              "      filter: drop-shadow(0px 1px 2px rgba(0, 0, 0, 0.3));\n",
              "      fill: #FFFFFF;\n",
              "    }\n",
              "  </style>\n",
              "\n",
              "      <script>\n",
              "        const buttonEl =\n",
              "          document.querySelector('#df-1110cca4-db0e-415c-956e-f65fab38b840 button.colab-df-convert');\n",
              "        buttonEl.style.display =\n",
              "          google.colab.kernel.accessAllowed ? 'block' : 'none';\n",
              "\n",
              "        async function convertToInteractive(key) {\n",
              "          const element = document.querySelector('#df-1110cca4-db0e-415c-956e-f65fab38b840');\n",
              "          const dataTable =\n",
              "            await google.colab.kernel.invokeFunction('convertToInteractive',\n",
              "                                                     [key], {});\n",
              "          if (!dataTable) return;\n",
              "\n",
              "          const docLinkHtml = 'Like what you see? Visit the ' +\n",
              "            '<a target=\"_blank\" href=https://colab.research.google.com/notebooks/data_table.ipynb>data table notebook</a>'\n",
              "            + ' to learn more about interactive tables.';\n",
              "          element.innerHTML = '';\n",
              "          dataTable['output_type'] = 'display_data';\n",
              "          await google.colab.output.renderOutput(dataTable, element);\n",
              "          const docLink = document.createElement('div');\n",
              "          docLink.innerHTML = docLinkHtml;\n",
              "          element.appendChild(docLink);\n",
              "        }\n",
              "      </script>\n",
              "    </div>\n",
              "  </div>\n",
              "  "
            ]
          },
          "metadata": {},
          "execution_count": 73
        }
      ]
    },
    {
      "cell_type": "code",
      "source": [
        "#checking for duplicates\n",
        "#ma3ndnash duplicates\n",
        "\n",
        "print('Number of duplicate entries in the dataset {}'.format(sum(df_train.duplicated())))"
      ],
      "metadata": {
        "execution": {
          "iopub.status.busy": "2022-05-19T07:37:14.669983Z",
          "iopub.execute_input": "2022-05-19T07:37:14.670336Z",
          "iopub.status.idle": "2022-05-19T07:37:14.976155Z",
          "shell.execute_reply.started": "2022-05-19T07:37:14.670299Z",
          "shell.execute_reply": "2022-05-19T07:37:14.975227Z"
        },
        "trusted": true,
        "colab": {
          "base_uri": "https://localhost:8080/"
        },
        "id": "jKc_svLsZM3t",
        "outputId": "e6cbe538-347c-4036-b11a-d2bd97748150"
      },
      "execution_count": 74,
      "outputs": [
        {
          "output_type": "stream",
          "name": "stdout",
          "text": [
            "Number of duplicate entries in the dataset 0\n"
          ]
        }
      ]
    },
    {
      "cell_type": "markdown",
      "source": [
        "# Class Distribution"
      ],
      "metadata": {
        "id": "9mGzI5gjZM3u"
      }
    },
    {
      "cell_type": "code",
      "source": [
        "df_train['Activity'].unique() #betgeeb asamy el objects el fel dataset b esm el row da without duplicates"
      ],
      "metadata": {
        "execution": {
          "iopub.status.busy": "2022-05-19T07:37:14.979001Z",
          "iopub.execute_input": "2022-05-19T07:37:14.979801Z",
          "iopub.status.idle": "2022-05-19T07:37:14.987779Z",
          "shell.execute_reply.started": "2022-05-19T07:37:14.979753Z",
          "shell.execute_reply": "2022-05-19T07:37:14.986679Z"
        },
        "trusted": true,
        "colab": {
          "base_uri": "https://localhost:8080/"
        },
        "id": "7_Q48S74ZM3v",
        "outputId": "7a95910a-f352-4deb-c201-7a94461aa4ba"
      },
      "execution_count": 75,
      "outputs": [
        {
          "output_type": "execute_result",
          "data": {
            "text/plain": [
              "array(['STANDING', 'SITTING', 'LAYING', 'WALKING', 'WALKING_DOWNSTAIRS',\n",
              "       'WALKING_UPSTAIRS'], dtype=object)"
            ]
          },
          "metadata": {},
          "execution_count": 75
        }
      ]
    },
    {
      "cell_type": "markdown",
      "source": [
        "# Now Visualize the class Distribution"
      ],
      "metadata": {
        "id": "RSCDmZtPZM3v"
      }
    },
    {
      "cell_type": "code",
      "source": [
        "# Plotting data with respect to subject\n",
        "sns.set_style('whitegrid')\n",
        "plt.figure(figsize=(20,10))\n",
        "plt.title('Observations per User', fontsize=20)\n",
        "sns.countplot(x='subject', hue='Activity', data=df_train)\n",
        "plt.plot()"
      ],
      "metadata": {
        "execution": {
          "iopub.status.busy": "2022-05-19T07:37:14.989312Z",
          "iopub.execute_input": "2022-05-19T07:37:14.989675Z",
          "iopub.status.idle": "2022-05-19T07:37:16.030503Z",
          "shell.execute_reply.started": "2022-05-19T07:37:14.989641Z",
          "shell.execute_reply": "2022-05-19T07:37:16.029654Z"
        },
        "trusted": true,
        "colab": {
          "base_uri": "https://localhost:8080/",
          "height": 644
        },
        "id": "x1aOxk7fZM3v",
        "outputId": "a5f96617-8a63-4c9a-82ff-f2c941daf966"
      },
      "execution_count": 76,
      "outputs": [
        {
          "output_type": "execute_result",
          "data": {
            "text/plain": [
              "[]"
            ]
          },
          "metadata": {},
          "execution_count": 76
        },
        {
          "output_type": "display_data",
          "data": {
            "text/plain": [
              "<Figure size 1440x720 with 1 Axes>"
            ],
            "image/png": "[encoded data removed]"
          },
          "metadata": {}
        }
      ]
    },
    {
      "cell_type": "code",
      "source": [
        "plt.figure(figsize=(12,6))\n",
        "axis=sns.countplot(x=\"Activity\",data=df_train)\n",
        "plt.xticks(x=df_train['Activity'],rotation='vertical')\n",
        "plt.show()"
      ],
      "metadata": {
        "execution": {
          "iopub.status.busy": "2022-05-19T07:37:16.031919Z",
          "iopub.execute_input": "2022-05-19T07:37:16.032707Z",
          "iopub.status.idle": "2022-05-19T07:37:16.283307Z",
          "shell.execute_reply.started": "2022-05-19T07:37:16.032654Z",
          "shell.execute_reply": "2022-05-19T07:37:16.282517Z"
        },
        "trusted": true,
        "colab": {
          "base_uri": "https://localhost:8080/",
          "height": 497
        },
        "id": "5LTvOWRhZM3w",
        "outputId": "33cf1f38-aaff-4568-a15a-01bced414ee8"
      },
      "execution_count": 77,
      "outputs": [
        {
          "output_type": "display_data",
          "data": {
            "text/plain": [
              "<Figure size 864x432 with 1 Axes>"
            ],
            "image/png": "[encoded data removed]"
          },
          "metadata": {}
        }
      ]
    },
    {
      "cell_type": "markdown",
      "source": [
        "# Now Subject Part"
      ],
      "metadata": {
        "id": "FumHxvLBZM3w"
      }
    },
    {
      "cell_type": "code",
      "source": [
        "df_train['subject'].unique()"
      ],
      "metadata": {
        "execution": {
          "iopub.status.busy": "2022-05-19T07:37:18.793536Z",
          "iopub.execute_input": "2022-05-19T07:37:18.79408Z",
          "iopub.status.idle": "2022-05-19T07:37:18.801667Z",
          "shell.execute_reply.started": "2022-05-19T07:37:18.794044Z",
          "shell.execute_reply": "2022-05-19T07:37:18.800715Z"
        },
        "trusted": true,
        "colab": {
          "base_uri": "https://localhost:8080/"
        },
        "id": "-J3gHyUQZM3x",
        "outputId": "1e311bc8-e50e-4559-9a18-e9246a26abe2"
      },
      "execution_count": 78,
      "outputs": [
        {
          "output_type": "execute_result",
          "data": {
            "text/plain": [
              "array([ 1,  3,  5,  6,  7,  8, 11, 14, 15, 16, 17, 19, 21, 22, 23, 25, 26,\n",
              "       27, 28, 29, 30])"
            ]
          },
          "metadata": {},
          "execution_count": 78
        }
      ]
    },
    {
      "cell_type": "code",
      "source": [
        "X=pd.DataFrame(df_train.drop(['Activity','subject'],axis=1)) #btakhod kol el rows ma3ada el activity subject\n",
        "y=df_train.Activity.values.astype(object) \n",
        "#3amalna assign lel activties as an object f y"
      ],
      "metadata": {
        "execution": {
          "iopub.status.busy": "2022-05-19T07:37:18.803275Z",
          "iopub.execute_input": "2022-05-19T07:37:18.803584Z",
          "iopub.status.idle": "2022-05-19T07:37:18.825737Z",
          "shell.execute_reply.started": "2022-05-19T07:37:18.803527Z",
          "shell.execute_reply": "2022-05-19T07:37:18.824596Z"
        },
        "trusted": true,
        "id": "g323NGD9ZM3x"
      },
      "execution_count": 79,
      "outputs": []
    },
    {
      "cell_type": "code",
      "source": [
        "X.shape , y.shape"
      ],
      "metadata": {
        "execution": {
          "iopub.status.busy": "2022-05-19T07:37:18.827405Z",
          "iopub.execute_input": "2022-05-19T07:37:18.82786Z",
          "iopub.status.idle": "2022-05-19T07:37:18.833324Z",
          "shell.execute_reply.started": "2022-05-19T07:37:18.827812Z",
          "shell.execute_reply": "2022-05-19T07:37:18.832646Z"
        },
        "trusted": true,
        "colab": {
          "base_uri": "https://localhost:8080/"
        },
        "id": "2IbHkVSOZM3y",
        "outputId": "5c7df1bd-826c-49db-805e-7990a7cd08b3"
      },
      "execution_count": 80,
      "outputs": [
        {
          "output_type": "execute_result",
          "data": {
            "text/plain": [
              "((7352, 561), (7352,))"
            ]
          },
          "metadata": {},
          "execution_count": 80
        }
      ]
    },
    {
      "cell_type": "code",
      "source": [
        "X.head()"
      ],
      "metadata": {
        "execution": {
          "iopub.status.busy": "2022-05-19T07:37:18.835022Z",
          "iopub.execute_input": "2022-05-19T07:37:18.835515Z",
          "iopub.status.idle": "2022-05-19T07:37:18.868395Z",
          "shell.execute_reply.started": "2022-05-19T07:37:18.83548Z",
          "shell.execute_reply": "2022-05-19T07:37:18.86772Z"
        },
        "trusted": true,
        "colab": {
          "base_uri": "https://localhost:8080/",
          "height": 317
        },
        "id": "LJxCJz_IZM3y",
        "outputId": "7a20431c-3a4d-4a89-d0b7-43fd8e17c8fe"
      },
      "execution_count": 81,
      "outputs": [
        {
          "output_type": "execute_result",
          "data": {
            "text/plain": [
              "   tBodyAcc-mean()-X  tBodyAcc-mean()-Y  tBodyAcc-mean()-Z  tBodyAcc-std()-X  \\\n",
              "0           0.288585          -0.020294          -0.132905         -0.995279   \n",
              "1           0.278419          -0.016411          -0.123520         -0.998245   \n",
              "2           0.279653          -0.019467          -0.113462         -0.995380   \n",
              "3           0.279174          -0.026201          -0.123283         -0.996091   \n",
              "4           0.276629          -0.016570          -0.115362         -0.998139   \n",
              "\n",
              "   tBodyAcc-std()-Y  tBodyAcc-std()-Z  tBodyAcc-mad()-X  tBodyAcc-mad()-Y  \\\n",
              "0         -0.983111         -0.913526         -0.995112         -0.983185   \n",
              "1         -0.975300         -0.960322         -0.998807         -0.974914   \n",
              "2         -0.967187         -0.978944         -0.996520         -0.963668   \n",
              "3         -0.983403         -0.990675         -0.997099         -0.982750   \n",
              "4         -0.980817         -0.990482         -0.998321         -0.979672   \n",
              "\n",
              "   tBodyAcc-mad()-Z  tBodyAcc-max()-X  ...  fBodyBodyGyroJerkMag-meanFreq()  \\\n",
              "0         -0.923527         -0.934724  ...                        -0.074323   \n",
              "1         -0.957686         -0.943068  ...                         0.158075   \n",
              "2         -0.977469         -0.938692  ...                         0.414503   \n",
              "3         -0.989302         -0.938692  ...                         0.404573   \n",
              "4         -0.990441         -0.942469  ...                         0.087753   \n",
              "\n",
              "   fBodyBodyGyroJerkMag-skewness()  fBodyBodyGyroJerkMag-kurtosis()  \\\n",
              "0                        -0.298676                        -0.710304   \n",
              "1                        -0.595051                        -0.861499   \n",
              "2                        -0.390748                        -0.760104   \n",
              "3                        -0.117290                        -0.482845   \n",
              "4                        -0.351471                        -0.699205   \n",
              "\n",
              "   angle(tBodyAccMean,gravity)  angle(tBodyAccJerkMean),gravityMean)  \\\n",
              "0                    -0.112754                              0.030400   \n",
              "1                     0.053477                             -0.007435   \n",
              "2                    -0.118559                              0.177899   \n",
              "3                    -0.036788                             -0.012892   \n",
              "4                     0.123320                              0.122542   \n",
              "\n",
              "   angle(tBodyGyroMean,gravityMean)  angle(tBodyGyroJerkMean,gravityMean)  \\\n",
              "0                         -0.464761                             -0.018446   \n",
              "1                         -0.732626                              0.703511   \n",
              "2                          0.100699                              0.808529   \n",
              "3                          0.640011                             -0.485366   \n",
              "4                          0.693578                             -0.615971   \n",
              "\n",
              "   angle(X,gravityMean)  angle(Y,gravityMean)  angle(Z,gravityMean)  \n",
              "0             -0.841247              0.179941             -0.058627  \n",
              "1             -0.844788              0.180289             -0.054317  \n",
              "2             -0.848933              0.180637             -0.049118  \n",
              "3             -0.848649              0.181935             -0.047663  \n",
              "4             -0.847865              0.185151             -0.043892  \n",
              "\n",
              "[5 rows x 561 columns]"
            ],
            "text/html": [
              "\n",
              "  <div id=\"df-84b8a636-5203-4512-a3e0-14b9fbf4d59a\">\n",
              "    <div class=\"colab-df-container\">\n",
              "      <div>\n",
              "<style scoped>\n",
              "    .dataframe tbody tr th:only-of-type {\n",
              "        vertical-align: middle;\n",
              "    }\n",
              "\n",
              "    .dataframe tbody tr th {\n",
              "        vertical-align: top;\n",
              "    }\n",
              "\n",
              "    .dataframe thead th {\n",
              "        text-align: right;\n",
              "    }\n",
              "</style>\n",
              "<table border=\"1\" class=\"dataframe\">\n",
              "  <thead>\n",
              "    <tr style=\"text-align: right;\">\n",
              "      <th></th>\n",
              "      <th>tBodyAcc-mean()-X</th>\n",
              "      <th>tBodyAcc-mean()-Y</th>\n",
              "      <th>tBodyAcc-mean()-Z</th>\n",
              "      <th>tBodyAcc-std()-X</th>\n",
              "      <th>tBodyAcc-std()-Y</th>\n",
              "      <th>tBodyAcc-std()-Z</th>\n",
              "      <th>tBodyAcc-mad()-X</th>\n",
              "      <th>tBodyAcc-mad()-Y</th>\n",
              "      <th>tBodyAcc-mad()-Z</th>\n",
              "      <th>tBodyAcc-max()-X</th>\n",
              "      <th>...</th>\n",
              "      <th>fBodyBodyGyroJerkMag-meanFreq()</th>\n",
              "      <th>fBodyBodyGyroJerkMag-skewness()</th>\n",
              "      <th>fBodyBodyGyroJerkMag-kurtosis()</th>\n",
              "      <th>angle(tBodyAccMean,gravity)</th>\n",
              "      <th>angle(tBodyAccJerkMean),gravityMean)</th>\n",
              "      <th>angle(tBodyGyroMean,gravityMean)</th>\n",
              "      <th>angle(tBodyGyroJerkMean,gravityMean)</th>\n",
              "      <th>angle(X,gravityMean)</th>\n",
              "      <th>angle(Y,gravityMean)</th>\n",
              "      <th>angle(Z,gravityMean)</th>\n",
              "    </tr>\n",
              "  </thead>\n",
              "  <tbody>\n",
              "    <tr>\n",
              "      <th>0</th>\n",
              "      <td>0.288585</td>\n",
              "      <td>-0.020294</td>\n",
              "      <td>-0.132905</td>\n",
              "      <td>-0.995279</td>\n",
              "      <td>-0.983111</td>\n",
              "      <td>-0.913526</td>\n",
              "      <td>-0.995112</td>\n",
              "      <td>-0.983185</td>\n",
              "      <td>-0.923527</td>\n",
              "      <td>-0.934724</td>\n",
              "      <td>...</td>\n",
              "      <td>-0.074323</td>\n",
              "      <td>-0.298676</td>\n",
              "      <td>-0.710304</td>\n",
              "      <td>-0.112754</td>\n",
              "      <td>0.030400</td>\n",
              "      <td>-0.464761</td>\n",
              "      <td>-0.018446</td>\n",
              "      <td>-0.841247</td>\n",
              "      <td>0.179941</td>\n",
              "      <td>-0.058627</td>\n",
              "    </tr>\n",
              "    <tr>\n",
              "      <th>1</th>\n",
              "      <td>0.278419</td>\n",
              "      <td>-0.016411</td>\n",
              "      <td>-0.123520</td>\n",
              "      <td>-0.998245</td>\n",
              "      <td>-0.975300</td>\n",
              "      <td>-0.960322</td>\n",
              "      <td>-0.998807</td>\n",
              "      <td>-0.974914</td>\n",
              "      <td>-0.957686</td>\n",
              "      <td>-0.943068</td>\n",
              "      <td>...</td>\n",
              "      <td>0.158075</td>\n",
              "      <td>-0.595051</td>\n",
              "      <td>-0.861499</td>\n",
              "      <td>0.053477</td>\n",
              "      <td>-0.007435</td>\n",
              "      <td>-0.732626</td>\n",
              "      <td>0.703511</td>\n",
              "      <td>-0.844788</td>\n",
              "      <td>0.180289</td>\n",
              "      <td>-0.054317</td>\n",
              "    </tr>\n",
              "    <tr>\n",
              "      <th>2</th>\n",
              "      <td>0.279653</td>\n",
              "      <td>-0.019467</td>\n",
              "      <td>-0.113462</td>\n",
              "      <td>-0.995380</td>\n",
              "      <td>-0.967187</td>\n",
              "      <td>-0.978944</td>\n",
              "      <td>-0.996520</td>\n",
              "      <td>-0.963668</td>\n",
              "      <td>-0.977469</td>\n",
              "      <td>-0.938692</td>\n",
              "      <td>...</td>\n",
              "      <td>0.414503</td>\n",
              "      <td>-0.390748</td>\n",
              "      <td>-0.760104</td>\n",
              "      <td>-0.118559</td>\n",
              "      <td>0.177899</td>\n",
              "      <td>0.100699</td>\n",
              "      <td>0.808529</td>\n",
              "      <td>-0.848933</td>\n",
              "      <td>0.180637</td>\n",
              "      <td>-0.049118</td>\n",
              "    </tr>\n",
              "    <tr>\n",
              "      <th>3</th>\n",
              "      <td>0.279174</td>\n",
              "      <td>-0.026201</td>\n",
              "      <td>-0.123283</td>\n",
              "      <td>-0.996091</td>\n",
              "      <td>-0.983403</td>\n",
              "      <td>-0.990675</td>\n",
              "      <td>-0.997099</td>\n",
              "      <td>-0.982750</td>\n",
              "      <td>-0.989302</td>\n",
              "      <td>-0.938692</td>\n",
              "      <td>...</td>\n",
              "      <td>0.404573</td>\n",
              "      <td>-0.117290</td>\n",
              "      <td>-0.482845</td>\n",
              "      <td>-0.036788</td>\n",
              "      <td>-0.012892</td>\n",
              "      <td>0.640011</td>\n",
              "      <td>-0.485366</td>\n",
              "      <td>-0.848649</td>\n",
              "      <td>0.181935</td>\n",
              "      <td>-0.047663</td>\n",
              "    </tr>\n",
              "    <tr>\n",
              "      <th>4</th>\n",
              "      <td>0.276629</td>\n",
              "      <td>-0.016570</td>\n",
              "      <td>-0.115362</td>\n",
              "      <td>-0.998139</td>\n",
              "      <td>-0.980817</td>\n",
              "      <td>-0.990482</td>\n",
              "      <td>-0.998321</td>\n",
              "      <td>-0.979672</td>\n",
              "      <td>-0.990441</td>\n",
              "      <td>-0.942469</td>\n",
              "      <td>...</td>\n",
              "      <td>0.087753</td>\n",
              "      <td>-0.351471</td>\n",
              "      <td>-0.699205</td>\n",
              "      <td>0.123320</td>\n",
              "      <td>0.122542</td>\n",
              "      <td>0.693578</td>\n",
              "      <td>-0.615971</td>\n",
              "      <td>-0.847865</td>\n",
              "      <td>0.185151</td>\n",
              "      <td>-0.043892</td>\n",
              "    </tr>\n",
              "  </tbody>\n",
              "</table>\n",
              "<p>5 rows × 561 columns</p>\n",
              "</div>\n",
              "      <button class=\"colab-df-convert\" onclick=\"convertToInteractive('df-84b8a636-5203-4512-a3e0-14b9fbf4d59a')\"\n",
              "              title=\"Convert this dataframe to an interactive table.\"\n",
              "              style=\"display:none;\">\n",
              "        \n",
              "  <svg xmlns=\"http://www.w3.org/2000/svg\" height=\"24px\"viewBox=\"0 0 24 24\"\n",
              "       width=\"24px\">\n",
              "    <path d=\"M0 0h24v24H0V0z\" fill=\"none\"/>\n",
              "    <path d=\"M18.56 5.44l.94 2.06.94-2.06 2.06-.94-2.06-.94-.94-2.06-.94 2.06-2.06.94zm-11 1L8.5 8.5l.94-2.06 2.06-.94-2.06-.94L8.5 2.5l-.94 2.06-2.06.94zm10 10l.94 2.06.94-2.06 2.06-.94-2.06-.94-.94-2.06-.94 2.06-2.06.94z\"/><path d=\"M17.41 7.96l-1.37-1.37c-.4-.4-.92-.59-1.43-.59-.52 0-1.04.2-1.43.59L10.3 9.45l-7.72 7.72c-.78.78-.78 2.05 0 2.83L4 21.41c.39.39.9.59 1.41.59.51 0 1.02-.2 1.41-.59l7.78-7.78 2.81-2.81c.8-.78.8-2.07 0-2.86zM5.41 20L4 18.59l7.72-7.72 1.47 1.35L5.41 20z\"/>\n",
              "  </svg>\n",
              "      </button>\n",
              "      \n",
              "  <style>\n",
              "    .colab-df-container {\n",
              "      display:flex;\n",
              "      flex-wrap:wrap;\n",
              "      gap: 12px;\n",
              "    }\n",
              "\n",
              "    .colab-df-convert {\n",
              "      background-color: #E8F0FE;\n",
              "      border: none;\n",
              "      border-radius: 50%;\n",
              "      cursor: pointer;\n",
              "      display: none;\n",
              "      fill: #1967D2;\n",
              "      height: 32px;\n",
              "      padding: 0 0 0 0;\n",
              "      width: 32px;\n",
              "    }\n",
              "\n",
              "    .colab-df-convert:hover {\n",
              "      background-color: #E2EBFA;\n",
              "      box-shadow: 0px 1px 2px rgba(60, 64, 67, 0.3), 0px 1px 3px 1px rgba(60, 64, 67, 0.15);\n",
              "      fill: #174EA6;\n",
              "    }\n",
              "\n",
              "    [theme=dark] .colab-df-convert {\n",
              "      background-color: #3B4455;\n",
              "      fill: #D2E3FC;\n",
              "    }\n",
              "\n",
              "    [theme=dark] .colab-df-convert:hover {\n",
              "      background-color: #434B5C;\n",
              "      box-shadow: 0px 1px 3px 1px rgba(0, 0, 0, 0.15);\n",
              "      filter: drop-shadow(0px 1px 2px rgba(0, 0, 0, 0.3));\n",
              "      fill: #FFFFFF;\n",
              "    }\n",
              "  </style>\n",
              "\n",
              "      <script>\n",
              "        const buttonEl =\n",
              "          document.querySelector('#df-84b8a636-5203-4512-a3e0-14b9fbf4d59a button.colab-df-convert');\n",
              "        buttonEl.style.display =\n",
              "          google.colab.kernel.accessAllowed ? 'block' : 'none';\n",
              "\n",
              "        async function convertToInteractive(key) {\n",
              "          const element = document.querySelector('#df-84b8a636-5203-4512-a3e0-14b9fbf4d59a');\n",
              "          const dataTable =\n",
              "            await google.colab.kernel.invokeFunction('convertToInteractive',\n",
              "                                                     [key], {});\n",
              "          if (!dataTable) return;\n",
              "\n",
              "          const docLinkHtml = 'Like what you see? Visit the ' +\n",
              "            '<a target=\"_blank\" href=https://colab.research.google.com/notebooks/data_table.ipynb>data table notebook</a>'\n",
              "            + ' to learn more about interactive tables.';\n",
              "          element.innerHTML = '';\n",
              "          dataTable['output_type'] = 'display_data';\n",
              "          await google.colab.output.renderOutput(dataTable, element);\n",
              "          const docLink = document.createElement('div');\n",
              "          docLink.innerHTML = docLinkHtml;\n",
              "          element.appendChild(docLink);\n",
              "        }\n",
              "      </script>\n",
              "    </div>\n",
              "  </div>\n",
              "  "
            ]
          },
          "metadata": {},
          "execution_count": 81
        }
      ]
    },
    {
      "cell_type": "code",
      "source": [
        "y[5]"
      ],
      "metadata": {
        "execution": {
          "iopub.status.busy": "2022-05-19T07:37:18.869684Z",
          "iopub.execute_input": "2022-05-19T07:37:18.870124Z",
          "iopub.status.idle": "2022-05-19T07:37:18.886407Z",
          "shell.execute_reply.started": "2022-05-19T07:37:18.870091Z",
          "shell.execute_reply": "2022-05-19T07:37:18.885691Z"
        },
        "trusted": true,
        "colab": {
          "base_uri": "https://localhost:8080/",
          "height": 35
        },
        "id": "jaDjbqkrZM3y",
        "outputId": "fdaecb96-0c89-4858-f8f0-31b3df7f9342"
      },
      "execution_count": 82,
      "outputs": [
        {
          "output_type": "execute_result",
          "data": {
            "text/plain": [
              "'STANDING'"
            ],
            "application/vnd.google.colaboratory.intrinsic+json": {
              "type": "string"
            }
          },
          "metadata": {},
          "execution_count": 82
        }
      ]
    },
    {
      "cell_type": "code",
      "source": [
        "#Total Number of Continous and Categorical features in the training set\n",
        "num_cols = X._get_numeric_data().columns\n",
        "print(\"Number of numeric features:\",num_cols.size)"
      ],
      "metadata": {
        "execution": {
          "iopub.status.busy": "2022-05-19T07:37:19.092993Z",
          "iopub.execute_input": "2022-05-19T07:37:19.093475Z",
          "iopub.status.idle": "2022-05-19T07:37:19.100848Z",
          "shell.execute_reply.started": "2022-05-19T07:37:19.093428Z",
          "shell.execute_reply": "2022-05-19T07:37:19.099804Z"
        },
        "trusted": true,
        "colab": {
          "base_uri": "https://localhost:8080/"
        },
        "id": "WBNt_YxtZM3z",
        "outputId": "b7c2b2fa-f4b6-4287-f728-b61478b0bcb3"
      },
      "execution_count": 84,
      "outputs": [
        {
          "output_type": "stream",
          "name": "stdout",
          "text": [
            "Number of numeric features: 561\n"
          ]
        }
      ]
    },
    {
      "cell_type": "markdown",
      "source": [
        "# Transforming Non numerical Labels into numerical labels"
      ],
      "metadata": {
        "id": "IxMEQjeWZM30"
      }
    },
    {
      "cell_type": "code",
      "source": [
        "from sklearn import preprocessing"
      ],
      "metadata": {
        "execution": {
          "iopub.status.busy": "2022-05-19T07:37:19.102476Z",
          "iopub.execute_input": "2022-05-19T07:37:19.102868Z",
          "iopub.status.idle": "2022-05-19T07:37:19.156422Z",
          "shell.execute_reply.started": "2022-05-19T07:37:19.102816Z",
          "shell.execute_reply": "2022-05-19T07:37:19.155412Z"
        },
        "trusted": true,
        "id": "zRJBKxJ3ZM30"
      },
      "execution_count": 128,
      "outputs": []
    },
    {
      "cell_type": "code",
      "source": [
        "encoder=preprocessing.LabelEncoder() #bet7awel l numerical values badal strings "
      ],
      "metadata": {
        "execution": {
          "iopub.status.busy": "2022-05-19T07:37:19.15834Z",
          "iopub.execute_input": "2022-05-19T07:37:19.158719Z",
          "iopub.status.idle": "2022-05-19T07:37:19.16327Z",
          "shell.execute_reply.started": "2022-05-19T07:37:19.158653Z",
          "shell.execute_reply": "2022-05-19T07:37:19.162622Z"
        },
        "trusted": true,
        "id": "-R5U0ZJ2ZM30"
      },
      "execution_count": 129,
      "outputs": []
    },
    {
      "cell_type": "code",
      "source": [
        "encoder.fit(y)\n",
        "y=encoder.transform(y)\n",
        "y.shape"
      ],
      "metadata": {
        "execution": {
          "iopub.status.busy": "2022-05-19T07:37:19.164256Z",
          "iopub.execute_input": "2022-05-19T07:37:19.165035Z",
          "iopub.status.idle": "2022-05-19T07:37:19.184049Z",
          "shell.execute_reply.started": "2022-05-19T07:37:19.164996Z",
          "shell.execute_reply": "2022-05-19T07:37:19.183346Z"
        },
        "trusted": true,
        "colab": {
          "base_uri": "https://localhost:8080/"
        },
        "id": "fZvmnI6xZM30",
        "outputId": "a4a96d35-93c5-40f2-d909-e1060a62d64f"
      },
      "execution_count": 130,
      "outputs": [
        {
          "output_type": "execute_result",
          "data": {
            "text/plain": [
              "(7352,)"
            ]
          },
          "metadata": {},
          "execution_count": 130
        }
      ]
    },
    {
      "cell_type": "code",
      "source": [
        "y[5]"
      ],
      "metadata": {
        "execution": {
          "iopub.status.busy": "2022-05-19T07:37:19.185076Z",
          "iopub.execute_input": "2022-05-19T07:37:19.185344Z",
          "iopub.status.idle": "2022-05-19T07:37:19.19799Z",
          "shell.execute_reply.started": "2022-05-19T07:37:19.185314Z",
          "shell.execute_reply": "2022-05-19T07:37:19.197247Z"
        },
        "trusted": true,
        "colab": {
          "base_uri": "https://localhost:8080/"
        },
        "id": "AumU8lTyZM31",
        "outputId": "a0578b57-83d0-472e-8d62-d25b8bf73c0a"
      },
      "execution_count": 131,
      "outputs": [
        {
          "output_type": "execute_result",
          "data": {
            "text/plain": [
              "2"
            ]
          },
          "metadata": {},
          "execution_count": 131
        }
      ]
    },
    {
      "cell_type": "code",
      "source": [
        "encoder.classes_"
      ],
      "metadata": {
        "execution": {
          "iopub.status.busy": "2022-05-19T07:37:19.199078Z",
          "iopub.execute_input": "2022-05-19T07:37:19.199431Z",
          "iopub.status.idle": "2022-05-19T07:37:19.213386Z",
          "shell.execute_reply.started": "2022-05-19T07:37:19.199401Z",
          "shell.execute_reply": "2022-05-19T07:37:19.212661Z"
        },
        "trusted": true,
        "colab": {
          "base_uri": "https://localhost:8080/"
        },
        "id": "8yjBMyRKZM31",
        "outputId": "6aaa5525-f4d9-47da-8b49-bc17766ad70c"
      },
      "execution_count": 132,
      "outputs": [
        {
          "output_type": "execute_result",
          "data": {
            "text/plain": [
              "array([0, 1, 2, 3, 4, 5])"
            ]
          },
          "metadata": {},
          "execution_count": 132
        }
      ]
    },
    {
      "cell_type": "code",
      "source": [
        "encoder.classes_[5]"
      ],
      "metadata": {
        "execution": {
          "iopub.status.busy": "2022-05-19T07:37:19.214495Z",
          "iopub.execute_input": "2022-05-19T07:37:19.214907Z",
          "iopub.status.idle": "2022-05-19T07:37:19.228945Z",
          "shell.execute_reply.started": "2022-05-19T07:37:19.214875Z",
          "shell.execute_reply": "2022-05-19T07:37:19.22795Z"
        },
        "trusted": true,
        "colab": {
          "base_uri": "https://localhost:8080/"
        },
        "id": "gK37piepZM31",
        "outputId": "6f378f45-238c-468b-d3c8-5a63575c03fb"
      },
      "execution_count": 133,
      "outputs": [
        {
          "output_type": "execute_result",
          "data": {
            "text/plain": [
              "5"
            ]
          },
          "metadata": {},
          "execution_count": 133
        }
      ]
    },
    {
      "cell_type": "markdown",
      "source": [
        "# Feature Scaling"
      ],
      "metadata": {
        "id": "E418_L1mZM32"
      }
    },
    {
      "cell_type": "code",
      "source": [
        "from sklearn.preprocessing import StandardScaler"
      ],
      "metadata": {
        "execution": {
          "iopub.status.busy": "2022-05-19T07:37:19.23033Z",
          "iopub.execute_input": "2022-05-19T07:37:19.230715Z",
          "iopub.status.idle": "2022-05-19T07:37:19.242444Z",
          "shell.execute_reply.started": "2022-05-19T07:37:19.230678Z",
          "shell.execute_reply": "2022-05-19T07:37:19.241361Z"
        },
        "trusted": true,
        "id": "cvDbiXmUZM32"
      },
      "execution_count": 91,
      "outputs": []
    },
    {
      "cell_type": "code",
      "source": [
        "scaler=StandardScaler() \n",
        "#removes the mean and scales each feature/variable to unit variance. This operation is performed feature-wise in an independent way. StandardScaler can be "
      ],
      "metadata": {
        "execution": {
          "iopub.status.busy": "2022-05-19T07:37:19.249175Z",
          "iopub.execute_input": "2022-05-19T07:37:19.249466Z",
          "iopub.status.idle": "2022-05-19T07:37:19.256324Z",
          "shell.execute_reply.started": "2022-05-19T07:37:19.249432Z",
          "shell.execute_reply": "2022-05-19T07:37:19.255297Z"
        },
        "trusted": true,
        "id": "1kynWNr0ZM32"
      },
      "execution_count": 92,
      "outputs": []
    },
    {
      "cell_type": "code",
      "source": [
        "X=scaler.fit_transform(X) #scale the training data and also learn the scaling parameters of that data."
      ],
      "metadata": {
        "execution": {
          "iopub.status.busy": "2022-05-19T07:37:19.25749Z",
          "iopub.execute_input": "2022-05-19T07:37:19.258394Z",
          "iopub.status.idle": "2022-05-19T07:37:19.344072Z",
          "shell.execute_reply.started": "2022-05-19T07:37:19.258344Z",
          "shell.execute_reply": "2022-05-19T07:37:19.342988Z"
        },
        "trusted": true,
        "id": "9EcsE1Y8ZM32"
      },
      "execution_count": 93,
      "outputs": []
    },
    {
      "cell_type": "code",
      "source": [
        "X[6]"
      ],
      "metadata": {
        "execution": {
          "iopub.status.busy": "2022-05-19T07:37:19.345803Z",
          "iopub.execute_input": "2022-05-19T07:37:19.346076Z",
          "iopub.status.idle": "2022-05-19T07:37:19.361504Z",
          "shell.execute_reply.started": "2022-05-19T07:37:19.346045Z",
          "shell.execute_reply": "2022-05-19T07:37:19.360514Z"
        },
        "trusted": true,
        "colab": {
          "base_uri": "https://localhost:8080/"
        },
        "id": "ToAMzGVXZM33",
        "outputId": "3c37c650-b52f-469b-c884-190402a86d89"
      },
      "execution_count": 94,
      "outputs": [
        {
          "output_type": "execute_result",
          "data": {
            "text/plain": [
              "array([ 7.06803102e-02, -4.76710598e-02, -1.55590510e-02, -8.72474295e-01,\n",
              "       -9.07757392e-01, -9.03754203e-01, -8.64275181e-01, -9.03851692e-01,\n",
              "       -9.10339492e-01, -8.67537814e-01, -9.19981570e-01, -8.85046696e-01,\n",
              "        9.00763029e-01,  8.35192782e-01,  8.03287734e-01, -9.31094055e-01,\n",
              "       -6.93173920e-01, -7.74075988e-01, -6.93119192e-01, -8.41045000e-01,\n",
              "       -8.84476644e-01, -9.10107626e-01, -1.13918098e+00, -8.61804418e-01,\n",
              "       -1.00341946e+00,  1.55654217e+00, -1.36305466e+00,  1.08465809e+00,\n",
              "       -2.64947656e-01,  3.51743371e-01, -4.77984819e-01, -1.04913339e-01,\n",
              "       -7.76570603e-02,  7.75990031e-01, -6.83706720e-01,  1.19646917e+00,\n",
              "       -1.75787141e+00,  8.06280631e-02,  1.75396032e-01,  1.31266913e+00,\n",
              "        5.87944948e-01, -4.17203705e-01, -2.23034808e-03, -4.46314996e-01,\n",
              "       -3.81493257e-01, -5.13903339e-01, -4.43381738e-01, -3.78584813e-01,\n",
              "       -5.03100724e-01,  5.67025939e-01, -4.50196825e-01, -4.00607961e-02,\n",
              "        6.07951308e-01, -3.87708700e-01,  3.84871041e-02, -8.43972299e-01,\n",
              "        6.80286733e-01, -5.46640979e-01, -5.50891277e-01, -4.34378929e-01,\n",
              "       -3.66366263e-01, -4.70270990e-01, -9.10729779e-01, -4.65036607e-01,\n",
              "       -7.95296285e-01,  1.00353548e+00, -7.30334677e-01,  4.21665862e-01,\n",
              "       -9.74420302e-02, -2.64244109e-01,  1.43701165e-01, -6.13436281e-03,\n",
              "       -1.41890977e-01,  1.12398988e+00, -1.22413389e+00,  1.31767244e+00,\n",
              "       -1.39965926e+00,  7.74657861e-01,  1.47612060e+00,  1.12259034e+00,\n",
              "        1.68311341e-02, -1.56205280e-01, -6.94503985e-02, -8.53887445e-01,\n",
              "       -8.62881230e-01, -7.93262933e-01, -8.52083129e-01, -8.61281415e-01,\n",
              "       -8.00141143e-01, -8.01805473e-01, -8.13001174e-01, -7.13086594e-01,\n",
              "        8.55060502e-01,  8.45653966e-01,  7.96016830e-01, -8.61494913e-01,\n",
              "       -6.81843392e-01, -7.16008720e-01, -5.66485036e-01, -8.42294769e-01,\n",
              "       -8.39673363e-01, -8.02749619e-01, -1.05399418e+00, -9.83361372e-01,\n",
              "       -1.00171043e+00,  1.40743833e+00, -6.80722526e-01,  1.01305652e+00,\n",
              "        6.12992954e-01,  5.44222248e-01, -3.13004619e-01, -1.03364404e-02,\n",
              "       -7.00996989e-01,  1.17892483e+00,  3.65114784e-01,  1.09690180e+00,\n",
              "        1.98349062e+00,  9.88522799e-01,  8.54582955e-01,  6.47705138e-01,\n",
              "       -7.77648329e-03, -5.19970037e-02,  6.37245322e-02, -8.71493215e-01,\n",
              "       -8.43835255e-01, -8.60514467e-01, -8.62531940e-01, -8.43447584e-01,\n",
              "       -8.50128170e-01, -8.41123694e-01, -7.97846435e-01, -8.43099732e-01,\n",
              "        8.03399117e-01,  8.03595357e-01,  8.34789077e-01, -9.36193155e-01,\n",
              "       -6.77302402e-01, -6.01535716e-01, -6.48526870e-01, -8.39284625e-01,\n",
              "       -8.33396335e-01, -8.13254475e-01, -4.96774862e-01, -1.23026973e+00,\n",
              "       -1.95361741e-01,  4.39428627e-01, -7.74282991e-01,  8.62288617e-01,\n",
              "       -6.61508738e-02,  7.36478851e-01, -1.12888144e+00,  4.38851074e-01,\n",
              "        4.87786423e-01,  3.08931341e-01, -6.24324339e-01,  1.96202949e-01,\n",
              "        7.17246795e-01,  4.02964581e-01,  1.18345860e+00, -1.32969096e+00,\n",
              "        6.24427494e-03,  7.35578610e-03,  7.38947013e-02, -8.35548809e-01,\n",
              "       -7.48589244e-01, -8.16056005e-01, -8.30755998e-01, -7.53230924e-01,\n",
              "       -8.16040583e-01, -8.22349047e-01, -7.16275729e-01, -8.11294423e-01,\n",
              "        8.15923881e-01,  7.17816098e-01,  7.74220179e-01, -8.24172820e-01,\n",
              "       -6.06741180e-01, -4.40195960e-01, -5.86119652e-01, -8.19245306e-01,\n",
              "       -7.56477342e-01, -8.06120615e-01, -8.58139807e-01, -1.20160507e+00,\n",
              "       -8.00971575e-01,  3.12726224e-01, -8.81816220e-01, -2.48878181e-01,\n",
              "        1.17950961e+00,  4.96118201e-01, -8.54551640e-01, -6.48646836e-01,\n",
              "        1.17946065e+00,  1.33945784e-01, -6.84800620e-01, -7.86378826e-01,\n",
              "        7.06285061e-01,  6.42244134e-01,  5.85881043e-01, -1.11416425e+00,\n",
              "       -9.28732058e-01, -9.00376176e-01, -9.06607528e-01, -8.98069240e-01,\n",
              "       -8.06648684e-01, -9.28732058e-01, -7.83772288e-01, -9.07077416e-01,\n",
              "       -1.04994731e+00,  7.74308915e-01, -1.11086873e+00,  9.12425825e-01,\n",
              "       -1.51875737e-02, -9.28732058e-01, -9.00376176e-01, -9.06607528e-01,\n",
              "       -8.98069240e-01, -8.06648684e-01, -9.28732058e-01, -7.83772288e-01,\n",
              "       -9.07077416e-01, -1.04994731e+00,  7.74308915e-01, -1.11086873e+00,\n",
              "        9.12425825e-01, -1.51875737e-02, -8.61612980e-01, -8.51881911e-01,\n",
              "       -8.50914967e-01, -8.44482880e-01, -7.90408450e-01, -8.61612980e-01,\n",
              "       -7.05816456e-01, -8.43625910e-01, -9.91424719e-01,  4.05169243e-01,\n",
              "        3.69872234e-01, -4.35129289e-01, -6.16931867e-01, -9.38349434e-01,\n",
              "       -9.07353971e-01, -9.11379827e-01, -9.00517947e-01, -8.33263617e-01,\n",
              "       -9.38349434e-01, -7.38696381e-01, -8.94633810e-01, -8.81715074e-01,\n",
              "       -2.27458733e-01, -9.02231111e-02,  3.39043103e-01,  1.92964161e-01,\n",
              "       -8.18921965e-01, -7.79097277e-01, -7.86186126e-01, -7.69641621e-01,\n",
              "       -7.52836792e-01, -8.18921965e-01, -5.41679767e-01, -7.88892198e-01,\n",
              "       -1.12511798e+00, -6.20823357e-02, -1.54023219e-01,  1.11338428e+00,\n",
              "       -1.01452008e+00, -8.71727201e-01, -8.86107929e-01, -8.74683831e-01,\n",
              "       -8.67839191e-01, -9.10886458e-01, -9.02044221e-01, -8.75004012e-01,\n",
              "       -8.99857768e-01, -8.87583506e-01, -8.38773042e-01, -8.75865431e-01,\n",
              "       -8.63799520e-01, -6.08330779e-01, -6.41924298e-01, -6.27429585e-01,\n",
              "       -8.99169854e-01, -6.91367288e-01, -8.00977351e-01, -6.94271046e-01,\n",
              "       -8.51169612e-01, -8.38191271e-01, -7.78853054e-01, -1.08857327e+00,\n",
              "       -8.43392426e-01, -1.06767197e+00,  1.08930115e+00, -8.26711114e-01,\n",
              "       -6.43317102e-01,  2.49174378e+00,  4.03792966e-01,  1.15604311e+00,\n",
              "       -4.77550588e-01, -5.60770838e-01,  4.58686779e-01,  3.85634594e-01,\n",
              "       -6.09345377e-02, -7.01146464e-02, -6.70085060e-01, -6.23680490e-01,\n",
              "       -6.18756215e-01, -5.72984552e-01, -5.94064311e-01, -5.70990872e-01,\n",
              "       -5.19163274e-01, -3.75994123e-01, -6.81236508e-01, -6.32245042e-01,\n",
              "       -6.05503879e-01, -4.81785310e-01, -6.90130296e-01, -6.08453931e-01,\n",
              "       -7.80420478e-01, -6.37562160e-01, -6.39236020e-01, -5.94952759e-01,\n",
              "       -5.87670817e-01, -6.15546297e-01, -5.75557284e-01, -3.70943375e-01,\n",
              "       -7.93886313e-01, -6.54577693e-01, -6.23855537e-01, -5.30814608e-01,\n",
              "       -8.00412868e-01, -6.27556754e-01, -6.49089043e-01, -5.66487925e-01,\n",
              "       -4.95759298e-01, -4.53133455e-01, -4.50553878e-01, -5.11343217e-01,\n",
              "       -5.11041573e-01, -3.53688862e-01, -6.78163826e-01, -5.06510512e-01,\n",
              "       -4.88142469e-01, -4.89969069e-01, -6.91461210e-01, -4.77893762e-01,\n",
              "       -8.51359123e-01, -8.61882161e-01, -7.99635209e-01, -8.52075828e-01,\n",
              "       -8.59891175e-01, -7.79624206e-01, -8.55988523e-01, -8.64083972e-01,\n",
              "       -7.89806477e-01, -8.21866260e-01, -8.36910963e-01, -7.54597511e-01,\n",
              "       -5.40952861e-01, -6.14326055e-01, -4.56130479e-01, -8.60311652e-01,\n",
              "       -6.81773525e-01, -7.15937620e-01, -5.66373338e-01, -8.40780815e-01,\n",
              "       -8.57677214e-01, -7.86768571e-01, -9.59575783e-01, -9.85385687e-01,\n",
              "       -9.76751092e-01,  9.24809065e-01, -7.50796604e-01,  1.10995961e+00,\n",
              "        1.36866918e+00,  9.49543876e-01,  1.20368366e+00,  8.95429972e-02,\n",
              "        3.01282893e-01, -1.29574756e+00, -9.07468586e-01,  3.28332599e-01,\n",
              "       -1.23975058e-01, -6.20199932e-01, -6.39767827e-01, -6.10795844e-01,\n",
              "       -5.63795605e-01, -5.88832129e-01, -5.78853403e-01, -5.32936365e-01,\n",
              "       -2.74171322e-01, -6.64396155e-01, -6.23888387e-01, -6.08740707e-01,\n",
              "       -5.32701343e-01, -6.85951360e-01, -6.09205822e-01, -7.24618286e-01,\n",
              "       -6.31699865e-01, -6.41176550e-01, -5.86226380e-01, -5.75031936e-01,\n",
              "       -6.11095294e-01, -5.86884155e-01, -3.05845439e-01, -6.84860283e-01,\n",
              "       -6.55601656e-01, -6.18622067e-01, -5.86358701e-01, -7.11614649e-01,\n",
              "       -6.25160873e-01, -5.85519974e-01, -5.56836977e-01, -4.98608124e-01,\n",
              "       -4.45544624e-01, -4.28642295e-01, -4.95104894e-01, -5.02050354e-01,\n",
              "       -2.84398357e-01, -5.98668121e-01, -5.01671033e-01, -4.71007629e-01,\n",
              "       -5.02703331e-01, -5.81976669e-01, -4.69679299e-01, -8.75867849e-01,\n",
              "       -8.30908423e-01, -8.62319837e-01, -8.60775944e-01, -8.35233843e-01,\n",
              "       -8.49143236e-01, -8.73430234e-01, -8.35700451e-01, -8.64131464e-01,\n",
              "       -8.26059025e-01, -7.79817558e-01, -7.99325886e-01, -6.07247591e-01,\n",
              "       -5.89047848e-01, -5.99994893e-01, -8.86185126e-01, -6.37335651e-01,\n",
              "       -5.92374578e-01, -6.38708712e-01, -8.10354274e-01, -7.64786183e-01,\n",
              "       -8.12363405e-01, -8.99834452e-01, -1.06148452e+00, -8.98931677e-01,\n",
              "       -6.33062824e-01, -4.41333086e-01, -8.12323991e-01, -7.94315763e-01,\n",
              "       -6.10720787e-01, -1.15753900e-01, -7.14619559e-01, -7.73473558e-01,\n",
              "       -3.66079655e-01, -5.33616587e-01, -4.61623636e-01, -6.23240748e-01,\n",
              "       -5.88235406e-01, -5.78639098e-01, -5.67468184e-01, -4.63895967e-01,\n",
              "       -4.56585787e-01, -4.96570037e-01, -4.28022251e-01, -3.31082098e-01,\n",
              "       -6.25869482e-01, -5.69192067e-01, -4.87053015e-01, -3.97448404e-01,\n",
              "       -6.35170960e-01, -4.84747385e-01, -5.54738234e-01, -4.04496512e-01,\n",
              "       -3.45300821e-01, -3.63760598e-01, -3.61252707e-01, -4.24913503e-01,\n",
              "       -4.15126652e-01, -3.14885773e-01, -5.84680123e-01, -3.68424163e-01,\n",
              "       -3.89442504e-01, -4.09467424e-01, -5.91913678e-01, -3.79325651e-01,\n",
              "       -5.69731146e-01, -4.91987047e-01, -4.90880268e-01, -4.31309182e-01,\n",
              "       -4.31963012e-01, -4.79968233e-01, -4.61840157e-01, -3.29701319e-01,\n",
              "       -6.13250925e-01, -5.01226027e-01, -4.58494434e-01, -4.19481463e-01,\n",
              "       -6.34101439e-01, -4.51485808e-01, -8.76166171e-01, -9.05325854e-01,\n",
              "       -8.89975583e-01, -8.88034312e-01, -5.19186020e-01, -8.76166171e-01,\n",
              "       -7.11580270e-01, -8.40852078e-01, -9.45918042e-01, -9.26051197e-01,\n",
              "        5.49434078e-01, -3.81918779e-01, -4.79990495e-01, -8.47974056e-01,\n",
              "       -8.49090665e-01, -8.51604108e-01, -8.26000652e-01, -6.29506590e-01,\n",
              "       -8.47974056e-01, -6.83696419e-01, -8.43868658e-01, -9.73551022e-01,\n",
              "       -1.41908968e-01,  4.41326465e-01, -9.92363331e-01, -9.20926817e-01,\n",
              "       -8.80767273e-01, -9.03553331e-01, -8.99080752e-01, -8.82640610e-01,\n",
              "       -6.30424500e-01, -8.80767273e-01, -6.51554224e-01, -8.44863591e-01,\n",
              "       -1.05886441e+00, -7.01321807e-01, -7.44806251e-01, -2.08027736e-01,\n",
              "       -2.84784436e-01, -7.84382400e-01, -7.62002830e-01, -7.69718243e-01,\n",
              "       -7.42231848e-01, -6.46599572e-01, -7.84382400e-01, -4.62883965e-01,\n",
              "       -7.73557545e-01, -1.06374886e+00, -7.06660727e-01,  8.18804060e-02,\n",
              "        2.79794555e-01,  1.97889002e-01, -6.57546346e-01, -5.19341053e-01,\n",
              "        9.71757839e-03, -3.84001337e-01, -7.08524577e-01,  4.15440795e-01,\n",
              "        4.83860939e-02])"
            ]
          },
          "metadata": {},
          "execution_count": 94
        }
      ]
    },
    {
      "cell_type": "markdown",
      "source": [
        "# Split X and y \n",
        "# Training and Validation sets"
      ],
      "metadata": {
        "id": "wLPW2S2cZM33"
      }
    },
    {
      "cell_type": "code",
      "source": [
        "from sklearn.model_selection import train_test_split"
      ],
      "metadata": {
        "execution": {
          "iopub.status.busy": "2022-05-19T07:37:19.362689Z",
          "iopub.execute_input": "2022-05-19T07:37:19.36299Z",
          "iopub.status.idle": "2022-05-19T07:37:19.38866Z",
          "shell.execute_reply.started": "2022-05-19T07:37:19.362955Z",
          "shell.execute_reply": "2022-05-19T07:37:19.387575Z"
        },
        "trusted": true,
        "id": "KAD4f0zxZM33"
      },
      "execution_count": 134,
      "outputs": []
    },
    {
      "cell_type": "code",
      "source": [
        "X_train,X_test,y_train,y_test=train_test_split(X,y,test_size=0.20,random_state=42) #yaany 3amalna 80% training w 20% testing"
      ],
      "metadata": {
        "execution": {
          "iopub.status.busy": "2022-05-19T07:37:19.389761Z",
          "iopub.execute_input": "2022-05-19T07:37:19.389995Z",
          "iopub.status.idle": "2022-05-19T07:37:19.446086Z",
          "shell.execute_reply.started": "2022-05-19T07:37:19.389968Z",
          "shell.execute_reply": "2022-05-19T07:37:19.445037Z"
        },
        "trusted": true,
        "id": "bmmQUP5qZM33"
      },
      "execution_count": 96,
      "outputs": []
    },
    {
      "cell_type": "code",
      "source": [
        "X_train.shape, X_test.shape, y_train.shape, y_test.shape"
      ],
      "metadata": {
        "execution": {
          "iopub.status.busy": "2022-05-19T07:37:19.447501Z",
          "iopub.execute_input": "2022-05-19T07:37:19.447797Z",
          "iopub.status.idle": "2022-05-19T07:37:19.455435Z",
          "shell.execute_reply.started": "2022-05-19T07:37:19.447766Z",
          "shell.execute_reply": "2022-05-19T07:37:19.454539Z"
        },
        "trusted": true,
        "colab": {
          "base_uri": "https://localhost:8080/"
        },
        "id": "LWdJUklnZM34",
        "outputId": "cbcb199d-3d5d-4dfd-b9bf-f0108a212580"
      },
      "execution_count": 97,
      "outputs": [
        {
          "output_type": "execute_result",
          "data": {
            "text/plain": [
              "((5881, 561), (1471, 561), (5881,), (1471,))"
            ]
          },
          "metadata": {},
          "execution_count": 97
        }
      ]
    },
    {
      "cell_type": "markdown",
      "source": [
        "# Training The Model"
      ],
      "metadata": {
        "id": "2x_AdAluZM34"
      }
    },
    {
      "cell_type": "code",
      "source": [
        "\n",
        "# import SVC classifier\n",
        "from sklearn.svm import SVC\n",
        "from sklearn.ensemble import RandomForestClassifier\n",
        "\n",
        "# import metrics to compute accuracy (Evulate)\n",
        "from sklearn.metrics import accuracy_score, confusion_matrix,classification_report\n",
        "from sklearn.model_selection import cross_val_score, GridSearchCV"
      ],
      "metadata": {
        "execution": {
          "iopub.status.busy": "2022-05-19T07:37:19.457061Z",
          "iopub.execute_input": "2022-05-19T07:37:19.457745Z",
          "iopub.status.idle": "2022-05-19T07:37:19.519131Z",
          "shell.execute_reply.started": "2022-05-19T07:37:19.457701Z",
          "shell.execute_reply": "2022-05-19T07:37:19.517905Z"
        },
        "trusted": true,
        "id": "ZsNKQ5QWZM34"
      },
      "execution_count": 135,
      "outputs": []
    },
    {
      "cell_type": "markdown",
      "source": [
        "# Firstly SVM"
      ],
      "metadata": {
        "id": "0UkgrbNAZM35"
      }
    },
    {
      "cell_type": "markdown",
      "source": [
        "# Run SVM with default hyperparameters"
      ],
      "metadata": {
        "id": "m1iNsSLyZM35"
      }
    },
    {
      "cell_type": "code",
      "source": [
        "svc=SVC(kernel=\"linear\") #garabna poly degree 2 w poly degree 3 w linear w linear a7san % #linear 98 poly 2 w 1 97 w kasr w rbf el heya el default 9789 a7san mel poly "
      ],
      "metadata": {
        "execution": {
          "iopub.status.busy": "2022-05-19T07:37:19.520197Z",
          "iopub.execute_input": "2022-05-19T07:37:19.52084Z",
          "iopub.status.idle": "2022-05-19T07:37:19.525608Z",
          "shell.execute_reply.started": "2022-05-19T07:37:19.5208Z",
          "shell.execute_reply": "2022-05-19T07:37:19.524712Z"
        },
        "trusted": true,
        "id": "wRjOtXk1ZM35"
      },
      "execution_count": 99,
      "outputs": []
    },
    {
      "cell_type": "code",
      "source": [
        "svc.fit(X_train,y_train)"
      ],
      "metadata": {
        "execution": {
          "iopub.status.busy": "2022-05-19T07:37:19.526869Z",
          "iopub.execute_input": "2022-05-19T07:37:19.527703Z",
          "iopub.status.idle": "2022-05-19T07:37:21.7685Z",
          "shell.execute_reply.started": "2022-05-19T07:37:19.527664Z",
          "shell.execute_reply": "2022-05-19T07:37:21.767247Z"
        },
        "trusted": true,
        "colab": {
          "base_uri": "https://localhost:8080/"
        },
        "id": "LVs0VhwIZM35",
        "outputId": "1b24d128-9bcf-41a6-de15-ce8315f0b42d"
      },
      "execution_count": 100,
      "outputs": [
        {
          "output_type": "execute_result",
          "data": {
            "text/plain": [
              "SVC(kernel='linear')"
            ]
          },
          "metadata": {},
          "execution_count": 100
        }
      ]
    },
    {
      "cell_type": "code",
      "source": [
        "y_pred=svc.predict(X_test)"
      ],
      "metadata": {
        "execution": {
          "iopub.status.busy": "2022-05-19T07:37:21.770163Z",
          "iopub.execute_input": "2022-05-19T07:37:21.770533Z",
          "iopub.status.idle": "2022-05-19T07:37:23.838009Z",
          "shell.execute_reply.started": "2022-05-19T07:37:21.770487Z",
          "shell.execute_reply": "2022-05-19T07:37:23.836969Z"
        },
        "trusted": true,
        "id": "pNjsutFgZM35"
      },
      "execution_count": 101,
      "outputs": []
    },
    {
      "cell_type": "markdown",
      "source": [
        "# Default SVC Score"
      ],
      "metadata": {
        "id": "o61_5xubZM36"
      }
    },
    {
      "cell_type": "code",
      "source": [
        "# Predict the labels\n",
        "\n",
        "# Print the Confusion Matrix\n",
        "cm = confusion_matrix(y_test, y_pred)\n",
        "print(\"Confusion Matrix\\n\")\n",
        "print(cm)\n",
        "\n",
        "# Print the Classification Report\n",
        "cr = classification_report(y_test, y_pred)\n",
        "print(\"\\n\\nClassification Report\\n\")\n",
        "print(cr)\n",
        "\n",
        "print('Model accuracy score with default hyperparameters: {0:0.4f}'. format(accuracy_score(y_test, y_pred)))"
      ],
      "metadata": {
        "execution": {
          "iopub.status.busy": "2022-05-19T07:37:23.839511Z",
          "iopub.execute_input": "2022-05-19T07:37:23.840002Z",
          "iopub.status.idle": "2022-05-19T07:37:23.847551Z",
          "shell.execute_reply.started": "2022-05-19T07:37:23.839951Z",
          "shell.execute_reply": "2022-05-19T07:37:23.846491Z"
        },
        "trusted": true,
        "colab": {
          "base_uri": "https://localhost:8080/"
        },
        "id": "IFM_nj4jZM36",
        "outputId": "3d3bf1a3-3f4b-447a-a025-68a038709035"
      },
      "execution_count": 102,
      "outputs": [
        {
          "output_type": "stream",
          "name": "stdout",
          "text": [
            "Confusion Matrix\n",
            "\n",
            "[[280   0   0   0   0   0]\n",
            " [  0 253   9   0   0   0]\n",
            " [  0  12 264   0   0   0]\n",
            " [  0   0   0 245   0   2]\n",
            " [  0   0   0   1 205   0]\n",
            " [  0   0   0   0   1 199]]\n",
            "\n",
            "\n",
            "Classification Report\n",
            "\n",
            "              precision    recall  f1-score   support\n",
            "\n",
            "           0       1.00      1.00      1.00       280\n",
            "           1       0.95      0.97      0.96       262\n",
            "           2       0.97      0.96      0.96       276\n",
            "           3       1.00      0.99      0.99       247\n",
            "           4       1.00      1.00      1.00       206\n",
            "           5       0.99      0.99      0.99       200\n",
            "\n",
            "    accuracy                           0.98      1471\n",
            "   macro avg       0.98      0.98      0.98      1471\n",
            "weighted avg       0.98      0.98      0.98      1471\n",
            "\n",
            "Model accuracy score with default hyperparameters: 0.9830\n"
          ]
        }
      ]
    },
    {
      "cell_type": "markdown",
      "source": [
        "#  rbf and C=100.0"
      ],
      "metadata": {
        "id": "AOSvrw8fZM36"
      }
    },
    {
      "cell_type": "code",
      "source": [
        "svc2=SVC(kernel='rbf',C=100.0)\n",
        "\n",
        "\n",
        "# fit classifier to training set\n",
        "svc2.fit(X_train,y_train)\n",
        "\n",
        "# make predictions on test set\n",
        "y_pred2 = svc2.predict(X_test)\n",
        "\n",
        "# compute and print accuracy score\n",
        "print('Model accuracy score with rbf kernel and C=100.0 : {0:0.4f}'. format(accuracy_score(y_test, y_pred2)))"
      ],
      "metadata": {
        "execution": {
          "iopub.status.busy": "2022-05-19T07:37:23.849083Z",
          "iopub.execute_input": "2022-05-19T07:37:23.849331Z",
          "iopub.status.idle": "2022-05-19T07:37:27.191673Z",
          "shell.execute_reply.started": "2022-05-19T07:37:23.849299Z",
          "shell.execute_reply": "2022-05-19T07:37:27.190749Z"
        },
        "trusted": true,
        "id": "jSGs2ZVeZM36",
        "colab": {
          "base_uri": "https://localhost:8080/"
        },
        "outputId": "ee16ea7f-e789-498c-93e9-5a2a38b3afd6"
      },
      "execution_count": 103,
      "outputs": [
        {
          "output_type": "stream",
          "name": "stdout",
          "text": [
            "Model accuracy score with rbf kernel and C=100.0 : 0.9912\n"
          ]
        }
      ]
    },
    {
      "cell_type": "markdown",
      "source": [
        "# Now Random Forest Classifier"
      ],
      "metadata": {
        "id": "uSY5OTMyZM36"
      }
    },
    {
      "cell_type": "code",
      "source": [
        "rand_clf=RandomForestClassifier(random_state=5)"
      ],
      "metadata": {
        "execution": {
          "iopub.status.busy": "2022-05-19T07:37:27.192985Z",
          "iopub.execute_input": "2022-05-19T07:37:27.193324Z",
          "iopub.status.idle": "2022-05-19T07:37:27.19788Z",
          "shell.execute_reply.started": "2022-05-19T07:37:27.193291Z",
          "shell.execute_reply": "2022-05-19T07:37:27.197016Z"
        },
        "trusted": true,
        "id": "Yt73EjPMZM37"
      },
      "execution_count": 136,
      "outputs": []
    },
    {
      "cell_type": "code",
      "source": [
        "rand_clf.fit(X_train,y_train)\n"
      ],
      "metadata": {
        "execution": {
          "iopub.status.busy": "2022-05-19T07:37:27.199413Z",
          "iopub.execute_input": "2022-05-19T07:37:27.199663Z",
          "iopub.status.idle": "2022-05-19T07:37:36.926299Z",
          "shell.execute_reply.started": "2022-05-19T07:37:27.199633Z",
          "shell.execute_reply": "2022-05-19T07:37:36.925158Z"
        },
        "trusted": true,
        "id": "WyQhVTGBZM37",
        "colab": {
          "base_uri": "https://localhost:8080/"
        },
        "outputId": "28050f13-3ccc-415a-f349-426bef74eb57"
      },
      "execution_count": 137,
      "outputs": [
        {
          "output_type": "execute_result",
          "data": {
            "text/plain": [
              "RandomForestClassifier(random_state=5)"
            ]
          },
          "metadata": {},
          "execution_count": 137
        }
      ]
    },
    {
      "cell_type": "code",
      "source": [
        "y_pre=rand_clf.predict(X_test)"
      ],
      "metadata": {
        "id": "7tDDMDb38ENt"
      },
      "execution_count": 138,
      "outputs": []
    },
    {
      "cell_type": "code",
      "source": [
        "#confusion matrix\n",
        "from sklearn.metrics import confusion_matrix\n",
        "confusion_matrix(y_test, y_pre)"
      ],
      "metadata": {
        "execution": {
          "iopub.status.busy": "2022-05-19T07:37:36.98072Z",
          "iopub.execute_input": "2022-05-19T07:37:36.980969Z",
          "iopub.status.idle": "2022-05-19T07:37:36.99031Z",
          "shell.execute_reply.started": "2022-05-19T07:37:36.980939Z",
          "shell.execute_reply": "2022-05-19T07:37:36.989614Z"
        },
        "trusted": true,
        "id": "q92CgZwkZM37",
        "colab": {
          "base_uri": "https://localhost:8080/"
        },
        "outputId": "98f612d2-b3ad-4844-fcbf-8d5c04d9fecd"
      },
      "execution_count": 139,
      "outputs": [
        {
          "output_type": "execute_result",
          "data": {
            "text/plain": [
              "array([[280,   0,   0,   0,   0,   0],\n",
              "       [  0, 251,  11,   0,   0,   0],\n",
              "       [  0,  10, 266,   0,   0,   0],\n",
              "       [  0,   0,   0, 245,   0,   2],\n",
              "       [  0,   0,   0,   0, 202,   4],\n",
              "       [  0,   0,   0,   0,   1, 199]])"
            ]
          },
          "metadata": {},
          "execution_count": 139
        }
      ]
    },
    {
      "cell_type": "code",
      "source": [
        "# Accuracy\n",
        "from sklearn.metrics import accuracy_score\n",
        "accuracy_score(y_test, y_pre)"
      ],
      "metadata": {
        "execution": {
          "iopub.status.busy": "2022-05-19T07:37:36.991574Z",
          "iopub.execute_input": "2022-05-19T07:37:36.99182Z",
          "iopub.status.idle": "2022-05-19T07:37:37.00136Z",
          "shell.execute_reply.started": "2022-05-19T07:37:36.991791Z",
          "shell.execute_reply": "2022-05-19T07:37:37.000712Z"
        },
        "trusted": true,
        "id": "7_5TIJOUZM37",
        "colab": {
          "base_uri": "https://localhost:8080/"
        },
        "outputId": "cf8d4b6f-5ef9-4ce4-ed9a-1e7920fb4443"
      },
      "execution_count": 140,
      "outputs": [
        {
          "output_type": "execute_result",
          "data": {
            "text/plain": [
              "0.9809653297076818"
            ]
          },
          "metadata": {},
          "execution_count": 140
        }
      ]
    },
    {
      "cell_type": "code",
      "source": [
        "print(\"Classification report - \\n\", classification_report(y_test,y_pre))"
      ],
      "metadata": {
        "colab": {
          "base_uri": "https://localhost:8080/"
        },
        "id": "nH6zNxpd-HQ-",
        "outputId": "b1ca2e68-a568-4281-9a04-6311df07b88c"
      },
      "execution_count": 141,
      "outputs": [
        {
          "output_type": "stream",
          "name": "stdout",
          "text": [
            "Classification report - \n",
            "               precision    recall  f1-score   support\n",
            "\n",
            "           0       1.00      1.00      1.00       280\n",
            "           1       0.96      0.96      0.96       262\n",
            "           2       0.96      0.96      0.96       276\n",
            "           3       1.00      0.99      1.00       247\n",
            "           4       1.00      0.98      0.99       206\n",
            "           5       0.97      0.99      0.98       200\n",
            "\n",
            "    accuracy                           0.98      1471\n",
            "   macro avg       0.98      0.98      0.98      1471\n",
            "weighted avg       0.98      0.98      0.98      1471\n",
            "\n"
          ]
        }
      ]
    },
    {
      "cell_type": "code",
      "source": [
        ""
      ],
      "metadata": {
        "id": "SCYZx3A4OVcL"
      },
      "execution_count": null,
      "outputs": []
    },
    {
      "cell_type": "markdown",
      "source": [
        "\n",
        "**Decision Tree**\n"
      ],
      "metadata": {
        "id": "6C4d8gsiOTCc"
      }
    },
    {
      "cell_type": "code",
      "source": [
        "dtree=DecisionTreeClassifier()\n",
        "dtree.fit(X_train,y_train)"
      ],
      "metadata": {
        "colab": {
          "base_uri": "https://localhost:8080/"
        },
        "id": "sSfJNlwV-gtL",
        "outputId": "3e009c27-ce2d-4602-fe58-b24e6126ff42"
      },
      "execution_count": 142,
      "outputs": [
        {
          "output_type": "execute_result",
          "data": {
            "text/plain": [
              "DecisionTreeClassifier()"
            ]
          },
          "metadata": {},
          "execution_count": 142
        }
      ]
    },
    {
      "cell_type": "code",
      "source": [
        "# Predicting the values of test data\n",
        "y_preddd = dtree.predict(X_test)\n",
        "print(\"Classification report - \\n\", classification_report(y_test,y_preddd))"
      ],
      "metadata": {
        "execution": {
          "iopub.status.busy": "2022-05-19T07:37:40.626282Z",
          "iopub.execute_input": "2022-05-19T07:37:40.626726Z",
          "iopub.status.idle": "2022-05-19T07:37:40.643218Z",
          "shell.execute_reply.started": "2022-05-19T07:37:40.626687Z",
          "shell.execute_reply": "2022-05-19T07:37:40.642172Z"
        },
        "trusted": true,
        "id": "RBk-hb-YZM38",
        "colab": {
          "base_uri": "https://localhost:8080/"
        },
        "outputId": "4bf95060-1ee5-4819-c109-ba77350814ee"
      },
      "execution_count": 143,
      "outputs": [
        {
          "output_type": "stream",
          "name": "stdout",
          "text": [
            "Classification report - \n",
            "               precision    recall  f1-score   support\n",
            "\n",
            "           0       1.00      1.00      1.00       280\n",
            "           1       0.92      0.93      0.93       262\n",
            "           2       0.93      0.93      0.93       276\n",
            "           3       0.94      0.96      0.95       247\n",
            "           4       0.98      0.92      0.95       206\n",
            "           5       0.92      0.95      0.93       200\n",
            "\n",
            "    accuracy                           0.95      1471\n",
            "   macro avg       0.95      0.95      0.95      1471\n",
            "weighted avg       0.95      0.95      0.95      1471\n",
            "\n"
          ]
        }
      ]
    },
    {
      "cell_type": "code",
      "source": [
        "from sklearn.metrics import confusion_matrix\n",
        "confusion_matrix(y_test, y_preddd)"
      ],
      "metadata": {
        "colab": {
          "base_uri": "https://localhost:8080/"
        },
        "id": "164uvfF6A5uG",
        "outputId": "431705a6-649d-4568-c3d6-d1fe885299e6"
      },
      "execution_count": 144,
      "outputs": [
        {
          "output_type": "execute_result",
          "data": {
            "text/plain": [
              "array([[280,   0,   0,   0,   0,   0],\n",
              "       [  0, 243,  19,   0,   0,   0],\n",
              "       [  0,  20, 256,   0,   0,   0],\n",
              "       [  0,   0,   0, 237,   0,  10],\n",
              "       [  0,   0,   0,   9, 190,   7],\n",
              "       [  0,   0,   0,   7,   3, 190]])"
            ]
          },
          "metadata": {},
          "execution_count": 144
        }
      ]
    },
    {
      "cell_type": "markdown",
      "source": [
        "# **KNN Classifier**\n"
      ],
      "metadata": {
        "id": "ynaFcA0R44L8"
      }
    },
    {
      "cell_type": "code",
      "source": [
        "knn = KNeighborsClassifier(7)"
      ],
      "metadata": {
        "id": "hzdYCp4a48Eb"
      },
      "execution_count": 113,
      "outputs": []
    },
    {
      "cell_type": "code",
      "source": [
        "knn.fit(X_train,y_train)"
      ],
      "metadata": {
        "colab": {
          "base_uri": "https://localhost:8080/"
        },
        "id": "YAbKSRkI_GzM",
        "outputId": "ca6e415d-c48b-43ef-84da-a4188a1cdf9c"
      },
      "execution_count": 114,
      "outputs": [
        {
          "output_type": "execute_result",
          "data": {
            "text/plain": [
              "KNeighborsClassifier(n_neighbors=7)"
            ]
          },
          "metadata": {},
          "execution_count": 114
        }
      ]
    },
    {
      "cell_type": "code",
      "source": [
        "Y_predict = knn.predict(X_test)"
      ],
      "metadata": {
        "id": "iWLo5Bfj_-F3"
      },
      "execution_count": 115,
      "outputs": []
    },
    {
      "cell_type": "code",
      "source": [
        "y_test = y_test.flatten()\n",
        "Y_predict = Y_predict.flatten()"
      ],
      "metadata": {
        "id": "SNKrmPiAACDu"
      },
      "execution_count": 116,
      "outputs": []
    },
    {
      "cell_type": "code",
      "source": [
        "DATA_knn = pd.DataFrame({'Y_test': y_test , 'Y_pred': Y_predict}) \n",
        "DATA_knn"
      ],
      "metadata": {
        "colab": {
          "base_uri": "https://localhost:8080/",
          "height": 424
        },
        "id": "6l6SQf7iAFBj",
        "outputId": "ce18cf47-c7f7-4029-a1cb-e3bfea989fd8"
      },
      "execution_count": 117,
      "outputs": [
        {
          "output_type": "execute_result",
          "data": {
            "text/plain": [
              "      Y_test  Y_pred\n",
              "0          4       4\n",
              "1          4       4\n",
              "2          3       3\n",
              "3          1       1\n",
              "4          4       4\n",
              "...      ...     ...\n",
              "1466       0       0\n",
              "1467       2       2\n",
              "1468       1       1\n",
              "1469       1       2\n",
              "1470       1       1\n",
              "\n",
              "[1471 rows x 2 columns]"
            ],
            "text/html": [
              "\n",
              "  <div id=\"df-a55e9a1f-5bf7-4573-ae15-735712cb82e5\">\n",
              "    <div class=\"colab-df-container\">\n",
              "      <div>\n",
              "<style scoped>\n",
              "    .dataframe tbody tr th:only-of-type {\n",
              "        vertical-align: middle;\n",
              "    }\n",
              "\n",
              "    .dataframe tbody tr th {\n",
              "        vertical-align: top;\n",
              "    }\n",
              "\n",
              "    .dataframe thead th {\n",
              "        text-align: right;\n",
              "    }\n",
              "</style>\n",
              "<table border=\"1\" class=\"dataframe\">\n",
              "  <thead>\n",
              "    <tr style=\"text-align: right;\">\n",
              "      <th></th>\n",
              "      <th>Y_test</th>\n",
              "      <th>Y_pred</th>\n",
              "    </tr>\n",
              "  </thead>\n",
              "  <tbody>\n",
              "    <tr>\n",
              "      <th>0</th>\n",
              "      <td>4</td>\n",
              "      <td>4</td>\n",
              "    </tr>\n",
              "    <tr>\n",
              "      <th>1</th>\n",
              "      <td>4</td>\n",
              "      <td>4</td>\n",
              "    </tr>\n",
              "    <tr>\n",
              "      <th>2</th>\n",
              "      <td>3</td>\n",
              "      <td>3</td>\n",
              "    </tr>\n",
              "    <tr>\n",
              "      <th>3</th>\n",
              "      <td>1</td>\n",
              "      <td>1</td>\n",
              "    </tr>\n",
              "    <tr>\n",
              "      <th>4</th>\n",
              "      <td>4</td>\n",
              "      <td>4</td>\n",
              "    </tr>\n",
              "    <tr>\n",
              "      <th>...</th>\n",
              "      <td>...</td>\n",
              "      <td>...</td>\n",
              "    </tr>\n",
              "    <tr>\n",
              "      <th>1466</th>\n",
              "      <td>0</td>\n",
              "      <td>0</td>\n",
              "    </tr>\n",
              "    <tr>\n",
              "      <th>1467</th>\n",
              "      <td>2</td>\n",
              "      <td>2</td>\n",
              "    </tr>\n",
              "    <tr>\n",
              "      <th>1468</th>\n",
              "      <td>1</td>\n",
              "      <td>1</td>\n",
              "    </tr>\n",
              "    <tr>\n",
              "      <th>1469</th>\n",
              "      <td>1</td>\n",
              "      <td>2</td>\n",
              "    </tr>\n",
              "    <tr>\n",
              "      <th>1470</th>\n",
              "      <td>1</td>\n",
              "      <td>1</td>\n",
              "    </tr>\n",
              "  </tbody>\n",
              "</table>\n",
              "<p>1471 rows × 2 columns</p>\n",
              "</div>\n",
              "      <button class=\"colab-df-convert\" onclick=\"convertToInteractive('df-a55e9a1f-5bf7-4573-ae15-735712cb82e5')\"\n",
              "              title=\"Convert this dataframe to an interactive table.\"\n",
              "              style=\"display:none;\">\n",
              "        \n",
              "  <svg xmlns=\"http://www.w3.org/2000/svg\" height=\"24px\"viewBox=\"0 0 24 24\"\n",
              "       width=\"24px\">\n",
              "    <path d=\"M0 0h24v24H0V0z\" fill=\"none\"/>\n",
              "    <path d=\"M18.56 5.44l.94 2.06.94-2.06 2.06-.94-2.06-.94-.94-2.06-.94 2.06-2.06.94zm-11 1L8.5 8.5l.94-2.06 2.06-.94-2.06-.94L8.5 2.5l-.94 2.06-2.06.94zm10 10l.94 2.06.94-2.06 2.06-.94-2.06-.94-.94-2.06-.94 2.06-2.06.94z\"/><path d=\"M17.41 7.96l-1.37-1.37c-.4-.4-.92-.59-1.43-.59-.52 0-1.04.2-1.43.59L10.3 9.45l-7.72 7.72c-.78.78-.78 2.05 0 2.83L4 21.41c.39.39.9.59 1.41.59.51 0 1.02-.2 1.41-.59l7.78-7.78 2.81-2.81c.8-.78.8-2.07 0-2.86zM5.41 20L4 18.59l7.72-7.72 1.47 1.35L5.41 20z\"/>\n",
              "  </svg>\n",
              "      </button>\n",
              "      \n",
              "  <style>\n",
              "    .colab-df-container {\n",
              "      display:flex;\n",
              "      flex-wrap:wrap;\n",
              "      gap: 12px;\n",
              "    }\n",
              "\n",
              "    .colab-df-convert {\n",
              "      background-color: #E8F0FE;\n",
              "      border: none;\n",
              "      border-radius: 50%;\n",
              "      cursor: pointer;\n",
              "      display: none;\n",
              "      fill: #1967D2;\n",
              "      height: 32px;\n",
              "      padding: 0 0 0 0;\n",
              "      width: 32px;\n",
              "    }\n",
              "\n",
              "    .colab-df-convert:hover {\n",
              "      background-color: #E2EBFA;\n",
              "      box-shadow: 0px 1px 2px rgba(60, 64, 67, 0.3), 0px 1px 3px 1px rgba(60, 64, 67, 0.15);\n",
              "      fill: #174EA6;\n",
              "    }\n",
              "\n",
              "    [theme=dark] .colab-df-convert {\n",
              "      background-color: #3B4455;\n",
              "      fill: #D2E3FC;\n",
              "    }\n",
              "\n",
              "    [theme=dark] .colab-df-convert:hover {\n",
              "      background-color: #434B5C;\n",
              "      box-shadow: 0px 1px 3px 1px rgba(0, 0, 0, 0.15);\n",
              "      filter: drop-shadow(0px 1px 2px rgba(0, 0, 0, 0.3));\n",
              "      fill: #FFFFFF;\n",
              "    }\n",
              "  </style>\n",
              "\n",
              "      <script>\n",
              "        const buttonEl =\n",
              "          document.querySelector('#df-a55e9a1f-5bf7-4573-ae15-735712cb82e5 button.colab-df-convert');\n",
              "        buttonEl.style.display =\n",
              "          google.colab.kernel.accessAllowed ? 'block' : 'none';\n",
              "\n",
              "        async function convertToInteractive(key) {\n",
              "          const element = document.querySelector('#df-a55e9a1f-5bf7-4573-ae15-735712cb82e5');\n",
              "          const dataTable =\n",
              "            await google.colab.kernel.invokeFunction('convertToInteractive',\n",
              "                                                     [key], {});\n",
              "          if (!dataTable) return;\n",
              "\n",
              "          const docLinkHtml = 'Like what you see? Visit the ' +\n",
              "            '<a target=\"_blank\" href=https://colab.research.google.com/notebooks/data_table.ipynb>data table notebook</a>'\n",
              "            + ' to learn more about interactive tables.';\n",
              "          element.innerHTML = '';\n",
              "          dataTable['output_type'] = 'display_data';\n",
              "          await google.colab.output.renderOutput(dataTable, element);\n",
              "          const docLink = document.createElement('div');\n",
              "          docLink.innerHTML = docLinkHtml;\n",
              "          element.appendChild(docLink);\n",
              "        }\n",
              "      </script>\n",
              "    </div>\n",
              "  </div>\n",
              "  "
            ]
          },
          "metadata": {},
          "execution_count": 117
        }
      ]
    },
    {
      "cell_type": "code",
      "source": [
        "accuracy_score(Y_predict,y_test)"
      ],
      "metadata": {
        "colab": {
          "base_uri": "https://localhost:8080/"
        },
        "id": "ps0-5vEx_OE-",
        "outputId": "ae42dcb7-f531-41b0-f454-d40a7f3ff141"
      },
      "execution_count": 118,
      "outputs": [
        {
          "output_type": "execute_result",
          "data": {
            "text/plain": [
              "0.9612508497620667"
            ]
          },
          "metadata": {},
          "execution_count": 118
        }
      ]
    },
    {
      "cell_type": "code",
      "source": [
        "from sklearn.metrics import confusion_matrix\n",
        "confusion_matrix(y_test, Y_predict)"
      ],
      "metadata": {
        "colab": {
          "base_uri": "https://localhost:8080/"
        },
        "id": "MgiqcHqyCig4",
        "outputId": "5b0d3604-8569-4ca1-c538-49f899f90dd5"
      },
      "execution_count": 119,
      "outputs": [
        {
          "output_type": "execute_result",
          "data": {
            "text/plain": [
              "array([[280,   0,   0,   0,   0,   0],\n",
              "       [  0, 224,  38,   0,   0,   0],\n",
              "       [  0,  12, 264,   0,   0,   0],\n",
              "       [  0,   0,   0, 247,   0,   0],\n",
              "       [  0,   0,   0,   4, 201,   1],\n",
              "       [  0,   0,   0,   1,   1, 198]])"
            ]
          },
          "metadata": {},
          "execution_count": 119
        }
      ]
    },
    {
      "cell_type": "code",
      "source": [
        "print(classification_report(Y_predict,y_test))\n"
      ],
      "metadata": {
        "colab": {
          "base_uri": "https://localhost:8080/"
        },
        "id": "XvEO5fFW_ddy",
        "outputId": "fee30322-2e06-41b7-f056-5f89f5c2e2e1"
      },
      "execution_count": 120,
      "outputs": [
        {
          "output_type": "stream",
          "name": "stdout",
          "text": [
            "              precision    recall  f1-score   support\n",
            "\n",
            "           0       1.00      1.00      1.00       280\n",
            "           1       0.85      0.95      0.90       236\n",
            "           2       0.96      0.87      0.91       302\n",
            "           3       1.00      0.98      0.99       252\n",
            "           4       0.98      1.00      0.99       202\n",
            "           5       0.99      0.99      0.99       199\n",
            "\n",
            "    accuracy                           0.96      1471\n",
            "   macro avg       0.96      0.97      0.96      1471\n",
            "weighted avg       0.96      0.96      0.96      1471\n",
            "\n"
          ]
        }
      ]
    },
    {
      "cell_type": "markdown",
      "source": [
        "# **Naive Bayse**"
      ],
      "metadata": {
        "id": "qT5HqwJFy3CI"
      }
    },
    {
      "cell_type": "code",
      "source": [
        "classifier = GaussianNB()\n",
        "classifier.fit(X_train, y_train)"
      ],
      "metadata": {
        "colab": {
          "base_uri": "https://localhost:8080/"
        },
        "id": "DVUTsJzWW00f",
        "outputId": "65caf60c-8b9a-4436-c58f-74d20dae7050"
      },
      "execution_count": 121,
      "outputs": [
        {
          "output_type": "execute_result",
          "data": {
            "text/plain": [
              "GaussianNB()"
            ]
          },
          "metadata": {},
          "execution_count": 121
        }
      ]
    },
    {
      "cell_type": "code",
      "source": [
        "y_predd  =  classifier.predict(X_test)\n",
        "\n",
        "cm = confusion_matrix(y_test, y_predd)\n",
        "ac = accuracy_score(y_test,y_predd)\n",
        "print(\"Accuracy:\" , ac)\n"
      ],
      "metadata": {
        "id": "3iJVhkVQFY_E",
        "colab": {
          "base_uri": "https://localhost:8080/"
        },
        "outputId": "dceba2f5-ba57-49ac-a0be-50e99393988d"
      },
      "execution_count": 122,
      "outputs": [
        {
          "output_type": "stream",
          "name": "stdout",
          "text": [
            "Accuracy: 0.7314751869476547\n"
          ]
        }
      ]
    },
    {
      "cell_type": "code",
      "source": [
        "\n",
        "print(classification_report(y_test, y_predd))\n",
        "print(confusion_matrix(y_test, y_predd))\n",
        "Accuracy = round((accuracy_score(y_test, y_predd) * 100))\n",
        "from sklearn.metrics import confusion_matrix,accuracy_score\n",
        "print(\"Accuracy : \" , Accuracy , \"%\")"
      ],
      "metadata": {
        "colab": {
          "base_uri": "https://localhost:8080/"
        },
        "id": "Y0oFVM9cTlch",
        "outputId": "5c9d53b9-ad55-42ba-f4c7-440dc37a3890"
      },
      "execution_count": 123,
      "outputs": [
        {
          "output_type": "stream",
          "name": "stdout",
          "text": [
            "              precision    recall  f1-score   support\n",
            "\n",
            "           0       0.96      0.41      0.58       280\n",
            "           1       0.51      0.74      0.60       262\n",
            "           2       0.80      0.89      0.84       276\n",
            "           3       0.93      0.74      0.82       247\n",
            "           4       0.83      0.76      0.79       206\n",
            "           5       0.65      0.91      0.76       200\n",
            "\n",
            "    accuracy                           0.73      1471\n",
            "   macro avg       0.78      0.74      0.73      1471\n",
            "weighted avg       0.78      0.73      0.73      1471\n",
            "\n",
            "[[116 161   0   0   0   3]\n",
            " [  3 193  62   0   0   4]\n",
            " [  2  24 246   0   0   4]\n",
            " [  0   0   0 183  18  46]\n",
            " [  0   0   0   9 156  41]\n",
            " [  0   0   0   5  13 182]]\n",
            "Accuracy :  73 %\n"
          ]
        }
      ]
    },
    {
      "cell_type": "markdown",
      "source": [
        "# **MLP**"
      ],
      "metadata": {
        "id": "vu-h-WCVzAvE"
      }
    },
    {
      "cell_type": "code",
      "source": [
        "from sklearn.neural_network import MLPClassifier\n",
        "\n",
        "# Create model object\n",
        "clf = MLPClassifier(hidden_layer_sizes=(6,5),  #represents the number of neurons in the ith hidden layer.\n",
        "                    random_state=5,            # It defines the random number for weights and bias initialization. \n",
        "                    verbose=True,              #It used to print progress messages to standard output.\n",
        "                    learning_rate_init=0.01)   #used to controls the step-size in updating the weights\n",
        "\n",
        "# Fit data onto the model\n",
        "clf.fit(X_train,y_train)\n"
      ],
      "metadata": {
        "id": "QRb88DXzTtwq",
        "colab": {
          "base_uri": "https://localhost:8080/"
        },
        "outputId": "da8f4019-c6e2-4ead-c3d2-574625db9335"
      },
      "execution_count": 124,
      "outputs": [
        {
          "output_type": "stream",
          "name": "stdout",
          "text": [
            "Iteration 1, loss = 1.24091409\n",
            "Iteration 2, loss = 0.49012122\n",
            "Iteration 3, loss = 0.21765835\n",
            "Iteration 4, loss = 0.12833590\n",
            "Iteration 5, loss = 0.11229852\n",
            "Iteration 6, loss = 0.08306127\n",
            "Iteration 7, loss = 0.06754478\n",
            "Iteration 8, loss = 0.07929942\n",
            "Iteration 9, loss = 0.05490730\n",
            "Iteration 10, loss = 0.04878666\n",
            "Iteration 11, loss = 0.04255621\n",
            "Iteration 12, loss = 0.04222120\n",
            "Iteration 13, loss = 0.05626051\n",
            "Iteration 14, loss = 0.04398430\n",
            "Iteration 15, loss = 0.05290677\n",
            "Iteration 16, loss = 0.03733126\n",
            "Iteration 17, loss = 0.03042802\n",
            "Iteration 18, loss = 0.02807690\n",
            "Iteration 19, loss = 0.03085388\n",
            "Iteration 20, loss = 0.02423154\n",
            "Iteration 21, loss = 0.02953584\n",
            "Iteration 22, loss = 0.03377361\n",
            "Iteration 23, loss = 0.03939099\n",
            "Iteration 24, loss = 0.02498410\n",
            "Iteration 25, loss = 0.02566865\n",
            "Iteration 26, loss = 0.02327314\n",
            "Iteration 27, loss = 0.01994446\n",
            "Iteration 28, loss = 0.02655995\n",
            "Iteration 29, loss = 0.02277497\n",
            "Iteration 30, loss = 0.01775545\n",
            "Iteration 31, loss = 0.01935737\n",
            "Iteration 32, loss = 0.02011811\n",
            "Iteration 33, loss = 0.03179462\n",
            "Iteration 34, loss = 0.02700609\n",
            "Iteration 35, loss = 0.02101419\n",
            "Iteration 36, loss = 0.02379246\n",
            "Iteration 37, loss = 0.01606934\n",
            "Iteration 38, loss = 0.01560707\n",
            "Iteration 39, loss = 0.01342279\n",
            "Iteration 40, loss = 0.01136355\n",
            "Iteration 41, loss = 0.00796447\n",
            "Iteration 42, loss = 0.00935743\n",
            "Iteration 43, loss = 0.01064049\n",
            "Iteration 44, loss = 0.01209424\n",
            "Iteration 45, loss = 0.03527836\n",
            "Iteration 46, loss = 0.03091959\n",
            "Iteration 47, loss = 0.05971181\n",
            "Iteration 48, loss = 0.04549845\n",
            "Iteration 49, loss = 0.03041589\n",
            "Iteration 50, loss = 0.02346184\n",
            "Iteration 51, loss = 0.01351255\n",
            "Iteration 52, loss = 0.01950558\n",
            "Training loss did not improve more than tol=0.000100 for 10 consecutive epochs. Stopping.\n"
          ]
        },
        {
          "output_type": "execute_result",
          "data": {
            "text/plain": [
              "MLPClassifier(hidden_layer_sizes=(6, 5), learning_rate_init=0.01,\n",
              "              random_state=5, verbose=True)"
            ]
          },
          "metadata": {},
          "execution_count": 124
        }
      ]
    },
    {
      "cell_type": "code",
      "source": [
        "ypred=clf.predict(X_test)\n",
        "\n",
        "# Import accuracy score \n",
        "from sklearn.metrics import accuracy_score\n",
        "\n",
        "# Calcuate accuracy\n",
        "accuracy_score(y_test,ypred)\n"
      ],
      "metadata": {
        "colab": {
          "base_uri": "https://localhost:8080/"
        },
        "id": "6ahLzYKIzSKN",
        "outputId": "72a89127-8346-43bc-fc47-f31a3fa9eec7"
      },
      "execution_count": 125,
      "outputs": [
        {
          "output_type": "execute_result",
          "data": {
            "text/plain": [
              "0.9809653297076818"
            ]
          },
          "metadata": {},
          "execution_count": 125
        }
      ]
    },
    {
      "cell_type": "code",
      "source": [
        "from sklearn.metrics import confusion_matrix\n",
        "confusion_matrix(y_test, ypred)"
      ],
      "metadata": {
        "colab": {
          "base_uri": "https://localhost:8080/"
        },
        "id": "ITKnu4Qk28p9",
        "outputId": "47d48d6f-cfa1-4025-a39a-590c98764692"
      },
      "execution_count": 126,
      "outputs": [
        {
          "output_type": "execute_result",
          "data": {
            "text/plain": [
              "array([[280,   0,   0,   0,   0,   0],\n",
              "       [  0, 250,  12,   0,   0,   0],\n",
              "       [  0,  10, 266,   0,   0,   0],\n",
              "       [  0,   0,   0, 244,   0,   3],\n",
              "       [  0,   0,   0,   0, 206,   0],\n",
              "       [  0,   0,   0,   2,   1, 197]])"
            ]
          },
          "metadata": {},
          "execution_count": 126
        }
      ]
    },
    {
      "cell_type": "code",
      "source": [
        "\n",
        "print(\"Classification report - \\n\", classification_report(y_test,ypred))"
      ],
      "metadata": {
        "colab": {
          "base_uri": "https://localhost:8080/"
        },
        "id": "tJjPTDtM3IER",
        "outputId": "b46427e5-b9d1-4ac1-a010-de22f1ca7faf"
      },
      "execution_count": 127,
      "outputs": [
        {
          "output_type": "stream",
          "name": "stdout",
          "text": [
            "Classification report - \n",
            "               precision    recall  f1-score   support\n",
            "\n",
            "           0       1.00      1.00      1.00       280\n",
            "           1       0.96      0.95      0.96       262\n",
            "           2       0.96      0.96      0.96       276\n",
            "           3       0.99      0.99      0.99       247\n",
            "           4       1.00      1.00      1.00       206\n",
            "           5       0.98      0.98      0.98       200\n",
            "\n",
            "    accuracy                           0.98      1471\n",
            "   macro avg       0.98      0.98      0.98      1471\n",
            "weighted avg       0.98      0.98      0.98      1471\n",
            "\n"
          ]
        }
      ]
    }
  ]
}